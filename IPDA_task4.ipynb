{
  "nbformat": 4,
  "nbformat_minor": 0,
  "metadata": {
    "colab": {
      "provenance": []
    },
    "kernelspec": {
      "name": "python3",
      "display_name": "Python 3"
    },
    "language_info": {
      "name": "python"
    }
  },
  "cells": [
    {
      "cell_type": "code",
      "execution_count": null,
      "metadata": {
        "id": "V8roL62_DASx"
      },
      "outputs": [],
      "source": [
        "from tensorflow import keras\n",
        "import tensorflow as tf\n",
        "import os\n",
        "from keras.layers import Dense,Dropout,Activation,Add,MaxPooling2D,Conv2D,Flatten,GlobalAveragePooling2D, Lambda, Conv2DTranspose, concatenate\n",
        "from keras.models import Sequential\n",
        "from keras.preprocessing.image import ImageDataGenerator\n",
        "from keras import Model\n",
        "from keras.layers import BatchNormalization\n",
        "import numpy as np                                            \n",
        "import matplotlib.pyplot as plt\n",
        "import pandas as pd\n",
        "from keras import layers\n",
        "from keras.preprocessing import image\n",
        "import seaborn as sns\n",
        "import zipfile\n",
        "import shutil\n",
        "import cv2\n",
        "from google.colab.patches import cv2_imshow"
      ]
    },
    {
      "cell_type": "code",
      "execution_count": null,
      "metadata": {
        "colab": {
          "base_uri": "https://localhost:8080/"
        },
        "id": "WL0-GrtBDMD9",
        "outputId": "354eb4b4-babb-43ae-fcf6-f10d0be94948"
      },
      "outputs": [
        {
          "output_type": "stream",
          "name": "stdout",
          "text": [
            "Mounted at /content/drive\n"
          ]
        }
      ],
      "source": [
        "from google.colab import drive\n",
        "drive.mount('/content/drive')"
      ]
    },
    {
      "cell_type": "code",
      "source": [
        "local_zip= '/content/drive/MyDrive/Cleaning/Train/Ids-20230202T180207Z-001.zip'\n",
        "zip_ref= zipfile.ZipFile(local_zip,'r')\n",
        "zip_ref.extractall('/content/drive/MyDrive/Cleaning/Train/IDS')\n",
        "local_zip= '/content/drive/MyDrive/Cleaning/Train/GroundTruth-20230202T180213Z-001.zip'\n",
        "zip_ref= zipfile.ZipFile(local_zip,'r')\n",
        "zip_ref.extractall('/content/drive/MyDrive/Cleaning/Train/GROUNDTRUTH')\n",
        "zip_ref.close()"
      ],
      "metadata": {
        "id": "T0CFMH9hDg-_"
      },
      "execution_count": null,
      "outputs": []
    },
    {
      "cell_type": "code",
      "execution_count": null,
      "metadata": {
        "id": "V9WxZRMRIlEQ"
      },
      "outputs": [],
      "source": [
        "\n",
        "Image_Width=256\n",
        "Image_Height=256\n",
        "Image_Size=(Image_Width,Image_Height)\n",
        "Image_Channels=1\n"
      ]
    },
    {
      "cell_type": "code",
      "execution_count": null,
      "metadata": {
        "id": "yfamBhzcMVDo"
      },
      "outputs": [],
      "source": [
        "train_dir = \"/content/drive/MyDrive/Cleaning/Train\"  \n",
        "train_images_dir = os.path.join(train_dir, 'IDS')\n",
        "train_labels_dir = os.path.join(train_dir, 'GROUNDTRUTH')"
      ]
    },
    {
      "cell_type": "code",
      "execution_count": null,
      "metadata": {
        "id": "JPJAXgo_TZKJ"
      },
      "outputs": [],
      "source": [
        "validation_dir = \"/content/drive/MyDrive/Cleaning/Test\"\n",
        "validation_images_dir = os.path.join(validation_dir, 'IDS')\n",
        "validation_labels_dir = os.path.join(validation_dir, 'GROUNDTRUTH')"
      ]
    },
    {
      "cell_type": "code",
      "source": [
        "# Define path to data and list of image filenames\n",
        "data_path = train_dir\n",
        "img_filenames = os.listdir(\"/content/drive/MyDrive/Cleaning/Train/IDS/Ids\")\n",
        "mask_filenames = os.listdir(\"/content/drive/MyDrive/Cleaning/Train/GROUNDTRUTH/GroundTruth\")\n",
        "# Load images and labels\n",
        "X = []\n",
        "y = []\n",
        "for i,filename in enumerate(img_filenames):\n",
        "    #print(filename)\n",
        "    img = cv2.imread(os.path.join(train_images_dir, 'Ids',filename))\n",
        "    img = cv2.resize(img, (Image_Width, Image_Height))\n",
        "    img = img / 255.0\n",
        "    X.append(img)\n",
        "for j,filename1 in enumerate(mask_filenames):\n",
        "    label = cv2.imread(os.path.join(train_labels_dir, 'GroundTruth', filename1), cv2.IMREAD_GRAYSCALE)\n",
        "    label = cv2.resize(label, (Image_Width, Image_Height))\n",
        "    label = np.expand_dims(label, axis=-1)\n",
        "    label = cv2.threshold(label, 0, 255, cv2.THRESH_BINARY)[1]   \n",
        "    y.append(np.concatenate([label, 255 - label], axis=-1))\n",
        "        #  # create binary foreground/background labels\n"
      ],
      "metadata": {
        "id": "7hv4QMk5zhaW"
      },
      "execution_count": null,
      "outputs": []
    },
    {
      "cell_type": "code",
      "source": [],
      "metadata": {
        "id": "4coHk6iZwSVj"
      },
      "execution_count": null,
      "outputs": []
    },
    {
      "cell_type": "code",
      "source": [
        "from sklearn.model_selection import train_test_split                                                   \n",
        "X_train, X_val, y_train, y_val = train_test_split(X, y, test_size=0.3, random_state=42)"
      ],
      "metadata": {
        "id": "XsQCFv_D68MU"
      },
      "execution_count": null,
      "outputs": []
    },
    {
      "cell_type": "code",
      "source": [
        "y_train[0].shape"
      ],
      "metadata": {
        "colab": {
          "base_uri": "https://localhost:8080/"
        },
        "id": "1puZGx007G7r",
        "outputId": "206ca0b4-8731-46c2-9b6b-05e9e3b9db2c"
      },
      "execution_count": null,
      "outputs": [
        {
          "output_type": "execute_result",
          "data": {
            "text/plain": [
              "(256, 512)"
            ]
          },
          "metadata": {},
          "execution_count": 11
        }
      ]
    },
    {
      "cell_type": "code",
      "source": [
        "X_train[0].shape"
      ],
      "metadata": {
        "colab": {
          "base_uri": "https://localhost:8080/"
        },
        "id": "UsQIrU9fxqiw",
        "outputId": "d9a6cde3-3d07-46d5-fbce-6a664d5e19df"
      },
      "execution_count": null,
      "outputs": [
        {
          "output_type": "execute_result",
          "data": {
            "text/plain": [
              "(256, 256, 3)"
            ]
          },
          "metadata": {},
          "execution_count": 12
        }
      ]
    },
    {
      "cell_type": "code",
      "source": [
        "X_val[0].shape"
      ],
      "metadata": {
        "colab": {
          "base_uri": "https://localhost:8080/"
        },
        "id": "8Glu3o24x0kD",
        "outputId": "3745f757-1aa9-4d73-fa04-b372a62e01f0"
      },
      "execution_count": null,
      "outputs": [
        {
          "output_type": "execute_result",
          "data": {
            "text/plain": [
              "(256, 256, 3)"
            ]
          },
          "metadata": {},
          "execution_count": 14
        }
      ]
    },
    {
      "cell_type": "code",
      "source": [
        "y_val[0].shape"
      ],
      "metadata": {
        "colab": {
          "base_uri": "https://localhost:8080/"
        },
        "id": "UQOLCmDux6Rb",
        "outputId": "f5531769-36f8-457e-e053-6c1cdeb800fd"
      },
      "execution_count": null,
      "outputs": [
        {
          "output_type": "execute_result",
          "data": {
            "text/plain": [
              "(256, 512)"
            ]
          },
          "metadata": {},
          "execution_count": 15
        }
      ]
    },
    {
      "cell_type": "code",
      "execution_count": null,
      "metadata": {
        "id": "EmzFSZxDWOZu"
      },
      "outputs": [],
      "source": [
        "from keras.engine.input_layer import Input\n",
        "\n",
        "input= Input((Image_Width, Image_Height, Image_Channels))\n",
        "#s= Lambda(lambda x : x/ 255)(input)\n",
        "c1 = Conv2D(64, (3, 3), activation='relu', kernel_initializer='he_normal', padding='same') (input)\n",
        "c1 = Dropout(0.1) (c1)\n",
        "c1 = Conv2D(64, (3, 3), activation='relu', kernel_initializer='he_normal', padding='same') (c1)\n",
        "p1 = MaxPooling2D((2, 2)) (c1)\n",
        "\n",
        "c2 = Conv2D(128, (3, 3), activation='relu', kernel_initializer='he_normal', padding='same') (p1)\n",
        "c2 = Dropout(0.1) (c2)\n",
        "c2 = Conv2D(128, (3, 3), activation='relu', kernel_initializer='he_normal', padding='same') (c2)\n",
        "p2 = MaxPooling2D((2, 2)) (c2)\n",
        "\n",
        "c3 = Conv2D(256, (3, 3), activation='relu', kernel_initializer='he_normal', padding='same') (p2)\n",
        "c3 = Dropout(0.2) (c3)\n",
        "c3 = Conv2D(256, (3, 3), activation='relu', kernel_initializer='he_normal', padding='same') (c3)\n",
        "p3 = MaxPooling2D((2, 2)) (c3)\n",
        "\n",
        "c4 = Conv2D(512, (3, 3), activation='relu', kernel_initializer='he_normal', padding='same') (p3)\n",
        "c4 = Dropout(0.2) (c4)\n",
        "c4 = Conv2D(512, (3, 3), activation='relu', kernel_initializer='he_normal', padding='same') (c4)\n",
        "p4 = MaxPooling2D((2, 2)) (c4)\n",
        "\n",
        "\n",
        "c5 = Conv2D(1024, (3, 3), activation='relu', kernel_initializer='he_normal', padding='same') (p4)\n",
        "c5 = Dropout(0.3) (c5)\n",
        "c5 = Conv2D(1024, (3, 3), activation='relu', kernel_initializer='he_normal', padding='same') (c5)\n",
        "\n",
        "\n",
        "u6 = Conv2DTranspose(512, (2, 2), strides=(2, 2), padding='same') (c5)\n",
        "u6 = concatenate([u6, c4])\n",
        "c6 = Conv2D(512, (3, 3), activation='relu', kernel_initializer='he_normal', padding='same') (u6)\n",
        "c6 = Dropout(0.2) (c6)\n",
        "c6 = Conv2D(512, (3, 3), activation='relu', kernel_initializer='he_normal', padding='same') (c6)\n",
        "\n",
        "u7 = Conv2DTranspose(256, (2, 2), strides=(2, 2), padding='same') (c6)\n",
        "u7 = concatenate([u7, c3])\n",
        "c7 = Conv2D(256, (3, 3), activation='relu', kernel_initializer='he_normal', padding='same') (u7)\n",
        "c7 = Dropout(0.2) (c7)\n",
        "c7 = Conv2D(256, (3, 3), activation='relu', kernel_initializer='he_normal', padding='same') (c7)\n",
        "\n",
        "u8 = Conv2DTranspose(128, (2, 2), strides=(2, 2), padding='same') (c7)\n",
        "u8 = concatenate([u8, c2])\n",
        "c8 = Conv2D(128, (3, 3), activation='relu', kernel_initializer='he_normal', padding='same') (u8)\n",
        "c8 = Dropout(0.1) (c8)\n",
        "c8 = Conv2D(128, (3, 3), activation='relu', kernel_initializer='he_normal', padding='same') (c8)\n",
        "\n",
        "u9 = Conv2DTranspose(64, (2, 2), strides=(2, 2), padding='same') (c8)\n",
        "u9 = concatenate([u9, c1])\n",
        "c9 = Conv2D(64, (3, 3), activation='relu', kernel_initializer='he_normal', padding='same') (u9)\n",
        "c9 = Dropout(0.1) (c9)\n",
        "c9 = Conv2D(64, (3, 3), activation='relu', kernel_initializer='he_normal', padding='same') (c9)\n",
        "\n",
        "output = Conv2D(2, (1, 1), activation='softmax') (c9)\n",
        "\n"
      ]
    },
    {
      "cell_type": "code",
      "execution_count": null,
      "metadata": {
        "id": "-8RjY-OGcPmr"
      },
      "outputs": [],
      "source": [
        "model_segment= Model(inputs= input, outputs= output) "
      ]
    },
    {
      "cell_type": "code",
      "execution_count": null,
      "metadata": {
        "colab": {
          "base_uri": "https://localhost:8080/"
        },
        "id": "PlfIAiiQcfNU",
        "outputId": "e497dc1b-c066-4f1c-f838-b845931935ea"
      },
      "outputs": [
        {
          "output_type": "stream",
          "name": "stdout",
          "text": [
            "Model: \"model\"\n",
            "__________________________________________________________________________________________________\n",
            " Layer (type)                   Output Shape         Param #     Connected to                     \n",
            "==================================================================================================\n",
            " input_1 (InputLayer)           [(None, 256, 256, 1  0           []                               \n",
            "                                )]                                                                \n",
            "                                                                                                  \n",
            " conv2d (Conv2D)                (None, 256, 256, 64  640         ['input_1[0][0]']                \n",
            "                                )                                                                 \n",
            "                                                                                                  \n",
            " dropout (Dropout)              (None, 256, 256, 64  0           ['conv2d[0][0]']                 \n",
            "                                )                                                                 \n",
            "                                                                                                  \n",
            " conv2d_1 (Conv2D)              (None, 256, 256, 64  36928       ['dropout[0][0]']                \n",
            "                                )                                                                 \n",
            "                                                                                                  \n",
            " max_pooling2d (MaxPooling2D)   (None, 128, 128, 64  0           ['conv2d_1[0][0]']               \n",
            "                                )                                                                 \n",
            "                                                                                                  \n",
            " conv2d_2 (Conv2D)              (None, 128, 128, 12  73856       ['max_pooling2d[0][0]']          \n",
            "                                8)                                                                \n",
            "                                                                                                  \n",
            " dropout_1 (Dropout)            (None, 128, 128, 12  0           ['conv2d_2[0][0]']               \n",
            "                                8)                                                                \n",
            "                                                                                                  \n",
            " conv2d_3 (Conv2D)              (None, 128, 128, 12  147584      ['dropout_1[0][0]']              \n",
            "                                8)                                                                \n",
            "                                                                                                  \n",
            " max_pooling2d_1 (MaxPooling2D)  (None, 64, 64, 128)  0          ['conv2d_3[0][0]']               \n",
            "                                                                                                  \n",
            " conv2d_4 (Conv2D)              (None, 64, 64, 256)  295168      ['max_pooling2d_1[0][0]']        \n",
            "                                                                                                  \n",
            " dropout_2 (Dropout)            (None, 64, 64, 256)  0           ['conv2d_4[0][0]']               \n",
            "                                                                                                  \n",
            " conv2d_5 (Conv2D)              (None, 64, 64, 256)  590080      ['dropout_2[0][0]']              \n",
            "                                                                                                  \n",
            " max_pooling2d_2 (MaxPooling2D)  (None, 32, 32, 256)  0          ['conv2d_5[0][0]']               \n",
            "                                                                                                  \n",
            " conv2d_6 (Conv2D)              (None, 32, 32, 512)  1180160     ['max_pooling2d_2[0][0]']        \n",
            "                                                                                                  \n",
            " dropout_3 (Dropout)            (None, 32, 32, 512)  0           ['conv2d_6[0][0]']               \n",
            "                                                                                                  \n",
            " conv2d_7 (Conv2D)              (None, 32, 32, 512)  2359808     ['dropout_3[0][0]']              \n",
            "                                                                                                  \n",
            " max_pooling2d_3 (MaxPooling2D)  (None, 16, 16, 512)  0          ['conv2d_7[0][0]']               \n",
            "                                                                                                  \n",
            " conv2d_8 (Conv2D)              (None, 16, 16, 1024  4719616     ['max_pooling2d_3[0][0]']        \n",
            "                                )                                                                 \n",
            "                                                                                                  \n",
            " dropout_4 (Dropout)            (None, 16, 16, 1024  0           ['conv2d_8[0][0]']               \n",
            "                                )                                                                 \n",
            "                                                                                                  \n",
            " conv2d_9 (Conv2D)              (None, 16, 16, 1024  9438208     ['dropout_4[0][0]']              \n",
            "                                )                                                                 \n",
            "                                                                                                  \n",
            " conv2d_transpose (Conv2DTransp  (None, 32, 32, 512)  2097664    ['conv2d_9[0][0]']               \n",
            " ose)                                                                                             \n",
            "                                                                                                  \n",
            " concatenate (Concatenate)      (None, 32, 32, 1024  0           ['conv2d_transpose[0][0]',       \n",
            "                                )                                 'conv2d_7[0][0]']               \n",
            "                                                                                                  \n",
            " conv2d_10 (Conv2D)             (None, 32, 32, 512)  4719104     ['concatenate[0][0]']            \n",
            "                                                                                                  \n",
            " dropout_5 (Dropout)            (None, 32, 32, 512)  0           ['conv2d_10[0][0]']              \n",
            "                                                                                                  \n",
            " conv2d_11 (Conv2D)             (None, 32, 32, 512)  2359808     ['dropout_5[0][0]']              \n",
            "                                                                                                  \n",
            " conv2d_transpose_1 (Conv2DTran  (None, 64, 64, 256)  524544     ['conv2d_11[0][0]']              \n",
            " spose)                                                                                           \n",
            "                                                                                                  \n",
            " concatenate_1 (Concatenate)    (None, 64, 64, 512)  0           ['conv2d_transpose_1[0][0]',     \n",
            "                                                                  'conv2d_5[0][0]']               \n",
            "                                                                                                  \n",
            " conv2d_12 (Conv2D)             (None, 64, 64, 256)  1179904     ['concatenate_1[0][0]']          \n",
            "                                                                                                  \n",
            " dropout_6 (Dropout)            (None, 64, 64, 256)  0           ['conv2d_12[0][0]']              \n",
            "                                                                                                  \n",
            " conv2d_13 (Conv2D)             (None, 64, 64, 256)  590080      ['dropout_6[0][0]']              \n",
            "                                                                                                  \n",
            " conv2d_transpose_2 (Conv2DTran  (None, 128, 128, 12  131200     ['conv2d_13[0][0]']              \n",
            " spose)                         8)                                                                \n",
            "                                                                                                  \n",
            " concatenate_2 (Concatenate)    (None, 128, 128, 25  0           ['conv2d_transpose_2[0][0]',     \n",
            "                                6)                                'conv2d_3[0][0]']               \n",
            "                                                                                                  \n",
            " conv2d_14 (Conv2D)             (None, 128, 128, 12  295040      ['concatenate_2[0][0]']          \n",
            "                                8)                                                                \n",
            "                                                                                                  \n",
            " dropout_7 (Dropout)            (None, 128, 128, 12  0           ['conv2d_14[0][0]']              \n",
            "                                8)                                                                \n",
            "                                                                                                  \n",
            " conv2d_15 (Conv2D)             (None, 128, 128, 12  147584      ['dropout_7[0][0]']              \n",
            "                                8)                                                                \n",
            "                                                                                                  \n",
            " conv2d_transpose_3 (Conv2DTran  (None, 256, 256, 64  32832      ['conv2d_15[0][0]']              \n",
            " spose)                         )                                                                 \n",
            "                                                                                                  \n",
            " concatenate_3 (Concatenate)    (None, 256, 256, 12  0           ['conv2d_transpose_3[0][0]',     \n",
            "                                8)                                'conv2d_1[0][0]']               \n",
            "                                                                                                  \n",
            " conv2d_16 (Conv2D)             (None, 256, 256, 64  73792       ['concatenate_3[0][0]']          \n",
            "                                )                                                                 \n",
            "                                                                                                  \n",
            " dropout_8 (Dropout)            (None, 256, 256, 64  0           ['conv2d_16[0][0]']              \n",
            "                                )                                                                 \n",
            "                                                                                                  \n",
            " conv2d_17 (Conv2D)             (None, 256, 256, 64  36928       ['dropout_8[0][0]']              \n",
            "                                )                                                                 \n",
            "                                                                                                  \n",
            " conv2d_18 (Conv2D)             (None, 256, 256, 2)  130         ['conv2d_17[0][0]']              \n",
            "                                                                                                  \n",
            "==================================================================================================\n",
            "Total params: 31,030,658\n",
            "Trainable params: 31,030,658\n",
            "Non-trainable params: 0\n",
            "__________________________________________________________________________________________________\n"
          ]
        }
      ],
      "source": [
        "model_segment.summary()"
      ]
    },
    {
      "cell_type": "code",
      "source": [
        "from keras import backend as K\n",
        "from keras.losses import binary_crossentropy\n",
        "\n",
        "def weighted_binary_crossentropy(y_true, y_pred):\n",
        "    \"\"\"\n",
        "    Weighted binary cross-entropy loss function.\n",
        "    \"\"\"\n",
        "    # Calculate the weights for each class\n",
        "    class_weight = K.variable([0.1, 0.9]) # weight of 0.1 for background class and 0.9 for foreground class\n",
        "\n",
        "    # Calculate the binary cross-entropy loss for each pixel\n",
        "    bce = binary_crossentropy(y_true, y_pred)\n",
        "\n",
        "    # Apply the class weights to the loss\n",
        "    class_weight_bce = K.mean(class_weight * bce)\n",
        "\n",
        "    return class_weight_bce"
      ],
      "metadata": {
        "id": "wx9AKNsKRbm0"
      },
      "execution_count": null,
      "outputs": []
    },
    {
      "cell_type": "code",
      "execution_count": null,
      "metadata": {
        "id": "jGGWDAJAciWG"
      },
      "outputs": [],
      "source": [
        "from keras.optimizers import Adam\n",
        "model_segment.compile(loss='categorical_crossentropy', optimizer=Adam(1e-4),metrics=['accuracy'])"
      ]
    },
    {
      "cell_type": "code",
      "execution_count": null,
      "metadata": {
        "id": "hJuIBg6JG41p"
      },
      "outputs": [],
      "source": [
        "os.mkdir(\"/content/TRAIN_DIR\")\n",
        "os.mkdir(\"/content/VALIDATION_DIR\")\n",
        "\n"
      ]
    },
    {
      "cell_type": "code",
      "source": [
        "import matplotlib\n",
        "image_path = \"/content/TRAIN_DIR/Ids\"\n",
        "for n1 in range(len(X_train)):\n",
        "  matplotlib.image.imsave(f'{image_path}/name'+str(n1)+'.png', np.array(X_train[n1]))\n"
      ],
      "metadata": {
        "id": "C-g70hJi7dNz"
      },
      "execution_count": null,
      "outputs": []
    },
    {
      "cell_type": "code",
      "source": [
        "os.mkdir(\"/content/MASK_TRAIN_DIR\")\n",
        "os.mkdir(\"/content/MASK_VALIDATION_DIR\")\n"
      ],
      "metadata": {
        "id": "NTDag2u1_RSB"
      },
      "execution_count": null,
      "outputs": []
    },
    {
      "cell_type": "code",
      "source": [
        "image1_path = \"/content/MASK_TRAIN_DIR/Masks\"\n",
        "for n2 in range(len(y_train)):\n",
        "  matplotlib.image.imsave(f'{image1_path}/name'+str(n2)+'.png', np.array(y_train[n2]))"
      ],
      "metadata": {
        "id": "cNwSKmQmBZnC"
      },
      "execution_count": null,
      "outputs": []
    },
    {
      "cell_type": "code",
      "source": [
        "image2_path = \"/content/VALIDATION_DIR/Ids\"\n",
        "for n3 in range(len(X_val)):\n",
        "  matplotlib.image.imsave(f'{image2_path}/name'+str(n3)+'.png', np.array(X_val[n3]))"
      ],
      "metadata": {
        "id": "u2Hml4YmBZY0"
      },
      "execution_count": null,
      "outputs": []
    },
    {
      "cell_type": "code",
      "source": [
        "image3_path = \"/content/MASK_VALIDATION_DIR/Masks\"\n",
        "for n4 in range(len(y_val)):\n",
        "  matplotlib.image.imsave(f'{image3_path}/name'+str(n4)+'.png', np.array(y_val[n4]))"
      ],
      "metadata": {
        "id": "0c_qcR1SCVbC"
      },
      "execution_count": null,
      "outputs": []
    },
    {
      "cell_type": "code",
      "source": [
        "SEED= 10\n",
        "np.random.seed(SEED)\n",
        "train_datagen = ImageDataGenerator(rescale=1. / 255)\n",
        "train_image_generator = train_datagen.flow_from_directory(\"/content/TRAIN_DIR\",\n",
        "                                                              target_size=Image_Size,\n",
        "                                                              class_mode=None,\n",
        "                                                              batch_size= 8,\n",
        "                                                              color_mode='grayscale',\n",
        "                                                              seed=SEED)\n",
        "\n",
        "train_mask_generator = train_datagen.flow_from_directory(\"/content/MASK_TRAIN_DIR\",\n",
        "                                                             target_size=Image_Size,\n",
        "                                                             class_mode=None,  \n",
        "                                                             batch_size= 8,\n",
        "                                                             color_mode='grayscale',\n",
        "                                                             seed=SEED)\n",
        "\n",
        "val_datagen = ImageDataGenerator(rescale=1. / 255)\n",
        "val_image_generator = val_datagen.flow_from_directory(\"/content/VALIDATION_DIR\",\n",
        "                                                          target_size=Image_Size,\n",
        "                                                          class_mode=None,\n",
        "                                                          batch_size= 8,\n",
        "                                                          color_mode='grayscale',\n",
        "                                                          seed=SEED)\n",
        "\n",
        "val_mask_generator = val_datagen.flow_from_directory(\"/content/MASK_VALIDATION_DIR\",\n",
        "                                                         target_size=Image_Size,\n",
        "                                                         class_mode=None,\n",
        "                                                         batch_size=8,\n",
        "                                                         color_mode='grayscale',\n",
        "                                                         seed=SEED)\n",
        "\n",
        "train_generator = zip(train_image_generator, train_mask_generator)\n",
        "val_generator = zip(val_image_generator, val_mask_generator)"
      ],
      "metadata": {
        "colab": {
          "base_uri": "https://localhost:8080/"
        },
        "id": "E-L-1B2BC1mv",
        "outputId": "1c23c508-1ade-4567-8d56-947bbc625ec0"
      },
      "execution_count": null,
      "outputs": [
        {
          "output_type": "stream",
          "name": "stdout",
          "text": [
            "Found 280 images belonging to 2 classes.\n",
            "Found 280 images belonging to 2 classes.\n",
            "Found 120 images belonging to 2 classes.\n",
            "Found 120 images belonging to 2 classes.\n"
          ]
        }
      ]
    },
    {
      "cell_type": "code",
      "source": [
        "X_train[0].shape"
      ],
      "metadata": {
        "colab": {
          "base_uri": "https://localhost:8080/"
        },
        "id": "lGoS40t5YsJr",
        "outputId": "27275018-7ffd-47f6-9e2a-5022e11937a8"
      },
      "execution_count": null,
      "outputs": [
        {
          "output_type": "execute_result",
          "data": {
            "text/plain": [
              "(256, 256, 3)"
            ]
          },
          "metadata": {},
          "execution_count": 24
        }
      ]
    },
    {
      "cell_type": "code",
      "source": [
        "y_train[0].shape"
      ],
      "metadata": {
        "colab": {
          "base_uri": "https://localhost:8080/"
        },
        "id": "xbXjnSa6YyNv",
        "outputId": "44a4048c-2b22-479a-90eb-a02c7c170ef9"
      },
      "execution_count": null,
      "outputs": [
        {
          "output_type": "execute_result",
          "data": {
            "text/plain": [
              "(256, 512)"
            ]
          },
          "metadata": {},
          "execution_count": 25
        }
      ]
    },
    {
      "cell_type": "code",
      "execution_count": null,
      "metadata": {
        "colab": {
          "base_uri": "https://localhost:8080/"
        },
        "id": "MsWksFBsgR1h",
        "outputId": "dd12876d-b0b1-4805-e11e-a6ce4b19b574"
      },
      "outputs": [
        {
          "output_type": "stream",
          "name": "stderr",
          "text": [
            "WARNING:tensorflow:`batch_size` is no longer needed in the `TensorBoard` Callback and will be ignored in TensorFlow 2.0.\n"
          ]
        },
        {
          "output_type": "stream",
          "name": "stdout",
          "text": [
            "Epoch 1/100\n",
            "      4/Unknown - 258s 64s/step - loss: 0.7021 - accuracy: 0.5085"
          ]
        }
      ],
      "source": [
        "from keras.callbacks import TensorBoard\n",
        "earlystopping= tf.keras.callbacks.EarlyStopping(patience= 5)                                 \n",
        "tb = TensorBoard(log_dir='./logs/', batch_size=8, write_graph=True)\n",
        "\n",
        "\n",
        "segmentation_history= model_segment.fit(train_generator,epochs= 100,verbose= 1,validation_data= val_generator, callbacks= [earlystopping, tb], steps_per_epoch= 100, validation_steps= 40)"
      ]
    },
    {
      "cell_type": "code",
      "execution_count": null,
      "metadata": {
        "id": "Xv10GCQRHBl7",
        "colab": {
          "base_uri": "https://localhost:8080/",
          "height": 545
        },
        "outputId": "8063bee1-eae7-4b17-c711-a109030993a0"
      },
      "outputs": [
        {
          "output_type": "display_data",
          "data": {
            "text/plain": [
              "<Figure size 432x288 with 1 Axes>"
            ],
            "image/png": "[encoded data removed]"
          },
          "metadata": {
            "needs_background": "light"
          }
        },
        {
          "output_type": "display_data",
          "data": {
            "text/plain": [
              "<Figure size 432x288 with 1 Axes>"
            ],
            "image/png": "[encoded data removed]"
          },
          "metadata": {
            "needs_background": "light"
          }
        }
      ],
      "source": [
        "import matplotlib.pyplot as plt\n",
        "acc_segment = segmentation_history.history['binary_accuracy']\n",
        "val_acc_segment = segmentation_history.history['val_binary_accuracy']\n",
        "loss_segment = segmentation_history.history['loss']\n",
        "val_loss_segment = segmentation_history.history['val_loss']\n",
        "\n",
        "epochs_segment = range(len(acc_segment))\n",
        "\n",
        "plt.plot(epochs_segment, acc_segment, 'bo', label='Training accuracy')\n",
        "plt.plot(epochs_segment, val_acc_segment, 'b', label='Validation accuracy')\n",
        "plt.title('Training and validation accuracy')\n",
        "\n",
        "plt.figure()\n",
        "\n",
        "plt.plot(epochs_segment, loss_segment, 'bo', label='Training Loss')\n",
        "plt.plot(epochs_segment, val_loss_segment, 'b', label='Validation Loss')\n",
        "plt.title('Training and validation loss')\n",
        "plt.legend()\n",
        "\n",
        "plt.show()"
      ]
    },
    {
      "cell_type": "code",
      "source": [
        "import cv2\n",
        "\n",
        "# Load the image\n",
        "img = cv2.imread('image.jpg')\n",
        "\n",
        "# Convert the image to grayscale\n",
        "gray = cv2.cvtColor(img, cv2.COLOR_BGR2GRAY)\n",
        "\n",
        "# Define the kernel for the morphological operations\n",
        "kernel = cv2.getStructuringElement(cv2.MORPH_ELLIPSE, (10, 10))\n",
        "\n",
        "# Apply the top hat filter\n",
        "tophat = cv2.morphologyEx(gray, cv2.MORPH_TOPHAT, kernel)\n"
      ],
      "metadata": {
        "id": "MmrC_FU8tWhv"
      },
      "execution_count": null,
      "outputs": []
    },
    {
      "cell_type": "code",
      "source": [
        "# Threshold the filtered image to create a binary mask\n",
        "_, binary = cv2.threshold(tophat, 50, 255, cv2.THRESH_BINARY)\n"
      ],
      "metadata": {
        "id": "Hw4OAzTbru-B"
      },
      "execution_count": null,
      "outputs": []
    },
    {
      "cell_type": "code",
      "source": [
        "# Find contours in the binary mask\n",
        "contours, _ = cv2.findContours(binary, cv2.RETR_EXTERNAL, cv2.CHAIN_APPROX_SIMPLE)\n",
        "\n",
        "# Draw the contours on the original image\n",
        "cv2.drawContours(img, contours, -1, (0, 0, 255), 2)\n"
      ],
      "metadata": {
        "id": "_8O7O3J1sNqe"
      },
      "execution_count": null,
      "outputs": []
    }
  ]
}