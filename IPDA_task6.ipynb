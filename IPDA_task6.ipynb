{
  "nbformat": 4,
  "nbformat_minor": 0,
  "metadata": {
    "colab": {
      "provenance": []
    },
    "kernelspec": {
      "name": "python3",
      "display_name": "Python 3"
    },
    "language_info": {
      "name": "python"
    }
  },
  "cells": [
    {
      "cell_type": "markdown",
      "source": [
        "###Classification"
      ],
      "metadata": {
        "id": "MjaluhqR7Jd_"
      }
    },
    {
      "cell_type": "code",
      "source": [
        "from keras.layers import Dense,Dropout,Activation,Add,MaxPooling2D,Conv2D,Flatten,GlobalAveragePooling2D,MaxPool2D,Conv2D\n",
        "from keras.models import Sequential\n",
        "from keras.preprocessing.image import ImageDataGenerator\n",
        "from keras import Model\n",
        "from keras.layers import BatchNormalization\n",
        "import numpy as np\n",
        "import matplotlib.pyplot as plt\n",
        "import pandas as pd\n",
        "from keras import layers\n",
        "from keras.preprocessing import image\n",
        "import seaborn as sns\n",
        "from sklearn.model_selection import train_test_split"
      ],
      "metadata": {
        "id": "qtipvn3S5wBs"
      },
      "execution_count": null,
      "outputs": []
    },
    {
      "cell_type": "code",
      "source": [
        "def predict_imageclassify(model, image):\n",
        "    predict = model.predict(image, verbose=1)\n",
        "    return predict[0]"
      ],
      "metadata": {
        "id": "z5KAbqct65dC"
      },
      "execution_count": null,
      "outputs": []
    },
    {
      "cell_type": "code",
      "source": [
        "def classification(classified_imgfile):\n",
        "  image= Image.open(classified_imgfile)\n",
        "  img, h, w = load_data(classified_imgfile)\n",
        "  modelclassify= tf.keras.models.load_model('/content/classification.h5')\n",
        "  prediction = modelclassify.predict(img)\n",
        "  \n",
        "  return prediction"
      ],
      "metadata": {
        "id": "Nm1Kj0sC56_o"
      },
      "execution_count": null,
      "outputs": []
    },
    {
      "cell_type": "markdown",
      "source": [
        "###Segmentation(Task_2)"
      ],
      "metadata": {
        "id": "7Fi327CIzwIV"
      }
    },
    {
      "cell_type": "code",
      "source": [
        "from tensorflow import keras\n",
        "import tensorflow as tf\n",
        "import os\n",
        "from keras.layers import Dense,Dropout,Activation,Add,MaxPooling2D,Conv2D,Flatten,GlobalAveragePooling2D, Lambda, Conv2DTranspose, concatenate\n",
        "from keras.models import Sequential\n",
        "from keras.preprocessing.image import ImageDataGenerator\n",
        "from keras import Model\n",
        "from keras.layers import BatchNormalization\n",
        "import numpy as np\n",
        "import matplotlib.pyplot as plt\n",
        "import pandas as pd\n",
        "from keras import layers\n",
        "from keras.preprocessing import image\n",
        "import seaborn as sns\n",
        "import zipfile\n",
        "import shutil\n",
        "import cv2\n",
        "from PIL import Image"
      ],
      "metadata": {
        "id": "h_sQjnNrzP9L"
      },
      "execution_count": null,
      "outputs": []
    },
    {
      "cell_type": "code",
      "source": [
        "def load_data(INPUT_FILE):\n",
        "    \n",
        "         img = cv2.imread(INPUT_FILE, cv2.IMREAD_GRAYSCALE)\n",
        "         img = img/255.0\n",
        "         height, width = img.shape[:2]\n",
        "         img = cv2.resize(img, (256, 256), interpolation=cv2.INTER_AREA)\n",
        "         img = img.reshape(1, 256, 256, 1)                                             \n",
        "         return img, height, width"
      ],
      "metadata": {
        "id": "OOr4Jclyyk4E"
      },
      "execution_count": null,
      "outputs": []
    },
    {
      "cell_type": "code",
      "source": [
        "def predict_image(model, image):\n",
        "    predict = model.predict(image, verbose=1)\n",
        "    return predict[0] "
      ],
      "metadata": {
        "id": "X84nlnVyzGds"
      },
      "execution_count": null,
      "outputs": []
    },
    {
      "cell_type": "code",
      "execution_count": null,
      "metadata": {
        "id": "NcdBDIKjwxNN"
      },
      "outputs": [],
      "source": [
        "\n",
        "def segmentation(classified_imgfile):\n",
        "  image= Image.open(classified_imgfile)\n",
        "  img, h, w = load_data(classified_imgfile)\n",
        "  modelsegment= tf.keras.models.load_model('/content/segmentation.h5')\n",
        "\n",
        "  output_image = predict_image(modelsegment, classified_imgfile )\n",
        "  return output_image"
      ]
    },
    {
      "cell_type": "markdown",
      "source": [
        "###Deskewing"
      ],
      "metadata": {
        "id": "CZMJckqV8ama"
      }
    },
    {
      "cell_type": "code",
      "source": [
        "import numpy as np\n",
        "import cv2\n",
        "import matplotlib.pyplot as plt\n",
        "from google.colab.patches import cv2_imshow\n",
        "from skimage.color import rgb2gray\n",
        "from skimage.transform import rotate\n",
        "from skimage.transform import (hough_line, hough_line_peaks)\n",
        "from scipy.stats import mode\n",
        "from skimage import io\n",
        "from skimage.filters import threshold_otsu, sobel\n",
        "from matplotlib import cm\n"
      ],
      "metadata": {
        "id": "zqbC0Yp17R5R"
      },
      "execution_count": null,
      "outputs": []
    },
    {
      "cell_type": "code",
      "source": [
        "def binarize_image(rgb_image):\n",
        "    image = rgb2gray(rgb_image)\n",
        "    threshold = threshold_otsu(image)\n",
        "    binary_image = image < threshold\n",
        "\n",
        "    return binary_image"
      ],
      "metadata": {
        "id": "Y-ZqOshL7lbJ"
      },
      "execution_count": null,
      "outputs": []
    },
    {
      "cell_type": "code",
      "source": [
        "def find_edges(binary_image):\n",
        "    image_edges = sobel(binary_image)\n",
        "\n",
        "    plt.imshow(binary_image, cmap='gray')\n",
        "    plt.axis('off')\n",
        "    plt.title('Binary Image Edges')\n",
        "    plt.savefig('/content/drive/My Drive/binary_image.png')\n",
        "\n",
        "    return image_edges"
      ],
      "metadata": {
        "id": "GE-tx0QO7mAA"
      },
      "execution_count": null,
      "outputs": []
    },
    {
      "cell_type": "code",
      "source": [
        "def find_tilt_angle(image_edges):\n",
        "    h, theta, d = hough_line(image_edges)\n",
        "    accum, angles, dists = hough_line_peaks(h, theta, d)\n",
        "    angle = np.rad2deg(mode(angles)[0][0])\n",
        "\n",
        "    if angle < 0:\n",
        "        r_angle = angle + 90\n",
        "    else:\n",
        "        r_angle = angle - 90\n",
        "\n",
        "    # Plot Image and Lines\n",
        "    fig, ax = plt.subplots()\n",
        "\n",
        "    ax.imshow(image_edges, cmap='gray')\n",
        "\n",
        "    origin = np.array((0, image_edges.shape[1]))\n",
        "\n",
        "    for _, angle, dist in zip(*hough_line_peaks(h, theta, d)):\n",
        "        y0, y1 = (dist - origin * np.cos(angle)) / np.sin(angle)\n",
        "        ax.plot(origin, (y0, y1), '-r')\n",
        "\n",
        "    ax.set_xlim(origin)\n",
        "    ax.set_ylim((image_edges.shape[0], 0))\n",
        "    ax.set_axis_off()\n",
        "    ax.set_title('Detected lines')\n",
        "\n",
        "    plt.savefig('/content/drive/My Drive/hough_lines.png')\n",
        "    plt.show()\n",
        "\n",
        "    return r_angle\n"
      ],
      "metadata": {
        "id": "wCo8Q_8k7saB"
      },
      "execution_count": null,
      "outputs": []
    },
    {
      "cell_type": "code",
      "source": [
        "def rotate_image(rgb_image, angle):\n",
        "    fixed_image = rotate(rgb_image, angle)\n",
        "\n",
        "    plt.imshow(fixed_image)\n",
        "    plt.axis('off')\n",
        "    plt.title('Fixed Image')\n",
        "    plt.savefig('/content/drive/My Drive/fixed_image.png')\n",
        "    plt.show()\n",
        "\n",
        "    return fixed_image\n",
        "\n",
        "\n",
        "def deskew_image(img_path):\n",
        "    image = io.imread(img_path)\n",
        "    binary_image = binarize_image(image)\n",
        "    image_edges = find_edges(binary_image)\n",
        "    angle = find_tilt_angle(image_edges)\n",
        "    rotate_image(io.imread(img_path), angle)\n"
      ],
      "metadata": {
        "id": "7xWfq9W171kj"
      },
      "execution_count": null,
      "outputs": []
    },
    {
      "cell_type": "markdown",
      "source": [
        "###OCR"
      ],
      "metadata": {
        "id": "2E2Knbal7_Oe"
      }
    },
    {
      "cell_type": "code",
      "source": [
        "pip install pytesseract\n",
        "!sudo apt install tesseract-ocr"
      ],
      "metadata": {
        "id": "X3OfZLSk79uf"
      },
      "execution_count": null,
      "outputs": []
    },
    {
      "cell_type": "code",
      "source": [
        "import pytesseract\n",
        "from PIL import Image\n",
        "\n",
        "def extract_text(image_path):\n",
        "    # Load the image\n",
        "    image = Image.open(image_path)\n",
        "\n",
        "    # Convert the image to grayscale\n",
        "    image = image.convert(\"L\")\n",
        "\n",
        "    # Apply OCR using Tesseract\n",
        "    words = pytesseract.image_to_string(image).split()\n",
        "\n",
        "    # Return the recognized words\n",
        "    return words\n",
        "\n",
        "# Test the function with an image\n",
        "image_path = \"/content/drive/MyDrive/IPDA dataset/ipda22_datasets/5_ocr/fake_id_11__front.png\"\n",
        "words = extract_text(image_path)\n",
        "print(words)\n",
        "\n"
      ],
      "metadata": {
        "id": "4dWj9F6D8Kfi"
      },
      "execution_count": null,
      "outputs": []
    }
  ]
}