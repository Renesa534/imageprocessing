{
  "nbformat": 4,
  "nbformat_minor": 0,
  "metadata": {
    "colab": {
      "provenance": []
    },
    "kernelspec": {
      "name": "python3",
      "display_name": "Python 3"
    },
    "language_info": {
      "name": "python"
    }
  },
  "cells": [
    {
      "cell_type": "code",
      "source": [
        "from keras.layers import Dense,Dropout,Activation,Add,MaxPooling2D,Conv2D,Flatten,GlobalAveragePooling2D,MaxPool2D,Conv2D\n",
        "from keras.models import Sequential\n",
        "from keras.preprocessing.image import ImageDataGenerator\n",
        "from keras import Model\n",
        "from keras.layers import BatchNormalization\n",
        "import numpy as np\n",
        "import matplotlib.pyplot as plt\n",
        "import pandas as pd\n",
        "from keras import layers\n",
        "from keras.preprocessing import image\n",
        "import seaborn as sns\n",
        "from sklearn.model_selection import train_test_split"
      ],
      "metadata": {
        "id": "_7LnHgw7s6a8"
      },
      "execution_count": null,
      "outputs": []
    },
    {
      "cell_type": "code",
      "source": [
        "from google.colab import drive\n",
        "drive.mount('/content/drive')"
      ],
      "metadata": {
        "id": "9DfOVVncrqxa",
        "colab": {
          "base_uri": "https://localhost:8080/"
        },
        "outputId": "4644f26d-5b9c-44f3-cd09-716ff314c679"
      },
      "execution_count": null,
      "outputs": [
        {
          "output_type": "stream",
          "name": "stdout",
          "text": [
            "Mounted at /content/drive\n"
          ]
        }
      ]
    },
    {
      "cell_type": "code",
      "source": [
        "from tensorflow import keras\n",
        "import tensorflow as tf\n",
        "import os"
      ],
      "metadata": {
        "id": "I9JC3BIEBaXF"
      },
      "execution_count": null,
      "outputs": []
    },
    {
      "cell_type": "code",
      "source": [
        "tf.__version__"
      ],
      "metadata": {
        "colab": {
          "base_uri": "https://localhost:8080/",
          "height": 36
        },
        "id": "u8N79sR8r2Ug",
        "outputId": "5af8a670-f27c-497f-e7cd-2fef1fa40b95"
      },
      "execution_count": null,
      "outputs": [
        {
          "output_type": "execute_result",
          "data": {
            "text/plain": [
              "'2.11.0'"
            ],
            "application/vnd.google.colaboratory.intrinsic+json": {
              "type": "string"
            }
          },
          "metadata": {},
          "execution_count": 5
        }
      ]
    },
    {
      "cell_type": "code",
      "source": [
        "Image_Width=128\n",
        "Image_Height=128\n",
        "Image_Size=(Image_Width,Image_Height)\n",
        "Image_Channels=3"
      ],
      "metadata": {
        "id": "wr6y30ZfsBTn"
      },
      "execution_count": null,
      "outputs": []
    },
    {
      "cell_type": "markdown",
      "source": [
        "##Splitting the training folder into validation and training sets"
      ],
      "metadata": {
        "id": "_484xRWORlx0"
      }
    },
    {
      "cell_type": "code",
      "source": [
        "! pip install python_splitter "
      ],
      "metadata": {
        "colab": {
          "base_uri": "https://localhost:8080/"
        },
        "id": "80LfJr7kSII2",
        "outputId": "117eb673-8ff9-48c8-8330-93acaa6996b7"
      },
      "execution_count": null,
      "outputs": [
        {
          "output_type": "stream",
          "name": "stdout",
          "text": [
            "Looking in indexes: https://pypi.org/simple, https://us-python.pkg.dev/colab-wheels/public/simple/\n",
            "Collecting python_splitter\n",
            "  Downloading python_splitter-0.0.3-py3-none-any.whl (5.2 kB)\n",
            "Requirement already satisfied: numpy in /usr/local/lib/python3.8/dist-packages (from python_splitter) (1.22.4)\n",
            "Installing collected packages: python_splitter\n",
            "Successfully installed python_splitter-0.0.3\n"
          ]
        }
      ]
    },
    {
      "cell_type": "code",
      "source": [
        "import python_splitter\n",
        "python_splitter.split_from_folder(\"/content/drive/MyDrive/IPDA/Training_dataset\", train=0.8, val=0.2)"
      ],
      "metadata": {
        "colab": {
          "base_uri": "https://localhost:8080/"
        },
        "id": "EcAX7njrQuJT",
        "outputId": "29595328-5581-4cd3-908b-429d618883e9"
      },
      "execution_count": null,
      "outputs": [
        {
          "output_type": "stream",
          "name": "stdout",
          "text": [
            "✅Checking SOURCE directory...\n",
            "0.8 0.2 0\n",
            "✅Checking percentage validation...\n",
            "✅Making required directories...\n",
            "✅Shuffling data...\n",
            "✅Getting ready for copying files...\n",
            "\n",
            "-------------Successfully splitted !!!--------------- \n"
          ]
        }
      ]
    },
    {
      "cell_type": "code",
      "source": [
        "base_dir = '/content/Train_Test_Folder'\n",
        "train_dir = os.path.join(base_dir, 'train')\n",
        "validation_dir = os.path.join(base_dir, 'test')"
      ],
      "metadata": {
        "id": "fONgLgQwV5Xs"
      },
      "execution_count": null,
      "outputs": []
    },
    {
      "cell_type": "code",
      "source": [
        "# Directory with our training non-id pictures\n",
        "train_dir_NonIds = os.path.join(train_dir, 'Non_Ids')\n",
        "# Directory with our training id pictures\n",
        "train_dir_Ids = os.path.join(train_dir, 'Ids')\n",
        "# Directory with our validation non-id pictures\n",
        "validation_dir_NonIds = os.path.join(validation_dir, 'Non_Ids')\n",
        "# Directory with our validation id pictures\n",
        "validation_dir_Ids = os.path.join(validation_dir, 'Ids')"
      ],
      "metadata": {
        "id": "tsRUPo1iWJae"
      },
      "execution_count": null,
      "outputs": []
    },
    {
      "cell_type": "code",
      "source": [
        "model=Sequential()\n",
        "model.add(Conv2D(16,(3,3),activation='relu',input_shape=(Image_Width,Image_Height,Image_Channels)))\n",
        "model.add(MaxPooling2D(pool_size=(2,2)))\n",
        "model.add(Conv2D(32,(3,3),activation='relu'))\n",
        "model.add(MaxPooling2D(pool_size=(2,2)))\n",
        "model.add(Conv2D(64,(3,3),activation='relu'))\n",
        "model.add(MaxPooling2D(pool_size=(2,2)))\n",
        "model.add(Conv2D(128,(3,3),activation='relu'))\n",
        "model.add(MaxPooling2D(pool_size=(2,2)))\n",
        "\n",
        "model.add(Flatten())\n",
        "#model.add(Dropout(0.5))\n",
        "model.add(Dense(64,activation='relu'))\n",
        "model.add(Dense(2,activation='softmax'))"
      ],
      "metadata": {
        "id": "iMnVTznZCBMJ"
      },
      "execution_count": null,
      "outputs": []
    },
    {
      "cell_type": "code",
      "source": [
        "model.summary()"
      ],
      "metadata": {
        "colab": {
          "base_uri": "https://localhost:8080/"
        },
        "id": "IhcLMuJbCfgH",
        "outputId": "bb928627-9293-430c-c6da-896111d66206"
      },
      "execution_count": null,
      "outputs": [
        {
          "output_type": "stream",
          "name": "stdout",
          "text": [
            "Model: \"sequential\"\n",
            "_________________________________________________________________\n",
            " Layer (type)                Output Shape              Param #   \n",
            "=================================================================\n",
            " conv2d (Conv2D)             (None, 126, 126, 16)      448       \n",
            "                                                                 \n",
            " max_pooling2d (MaxPooling2D  (None, 63, 63, 16)       0         \n",
            " )                                                               \n",
            "                                                                 \n",
            " conv2d_1 (Conv2D)           (None, 61, 61, 32)        4640      \n",
            "                                                                 \n",
            " max_pooling2d_1 (MaxPooling  (None, 30, 30, 32)       0         \n",
            " 2D)                                                             \n",
            "                                                                 \n",
            " conv2d_2 (Conv2D)           (None, 28, 28, 64)        18496     \n",
            "                                                                 \n",
            " max_pooling2d_2 (MaxPooling  (None, 14, 14, 64)       0         \n",
            " 2D)                                                             \n",
            "                                                                 \n",
            " conv2d_3 (Conv2D)           (None, 12, 12, 128)       73856     \n",
            "                                                                 \n",
            " max_pooling2d_3 (MaxPooling  (None, 6, 6, 128)        0         \n",
            " 2D)                                                             \n",
            "                                                                 \n",
            " flatten (Flatten)           (None, 4608)              0         \n",
            "                                                                 \n",
            " dense (Dense)               (None, 64)                294976    \n",
            "                                                                 \n",
            " dense_1 (Dense)             (None, 2)                 130       \n",
            "                                                                 \n",
            "=================================================================\n",
            "Total params: 392,546\n",
            "Trainable params: 392,546\n",
            "Non-trainable params: 0\n",
            "_________________________________________________________________\n"
          ]
        }
      ]
    },
    {
      "cell_type": "code",
      "source": [
        "from keras.optimizers import RMSprop\n",
        "model.compile(loss='categorical_crossentropy', optimizer=RMSprop(learning_rate= 0.0001),metrics=['accuracy'])"
      ],
      "metadata": {
        "id": "kOIwLLA3Cmfe"
      },
      "execution_count": null,
      "outputs": []
    },
    {
      "cell_type": "markdown",
      "source": [
        "###Data augmentation"
      ],
      "metadata": {
        "id": "by01u6ftB31I"
      }
    },
    {
      "cell_type": "code",
      "source": [
        "train_datagen = ImageDataGenerator(\n",
        "      rescale=1./255,\n",
        "      rotation_range=40,\n",
        "      width_shift_range=0.2,\n",
        "      height_shift_range=0.2,\n",
        "      shear_range=0.2,\n",
        "      zoom_range=0.2,\n",
        "      horizontal_flip=True,\n",
        "      fill_mode='nearest')"
      ],
      "metadata": {
        "id": "DSvXfHXyEWgD"
      },
      "execution_count": null,
      "outputs": []
    },
    {
      "cell_type": "code",
      "source": [
        "test_datagen = ImageDataGenerator(rescale=1./255)"
      ],
      "metadata": {
        "id": "Iwq8_nHTXBr3"
      },
      "execution_count": null,
      "outputs": []
    },
    {
      "cell_type": "code",
      "source": [
        "# Flow training images in batches of 20 using train_datagen generator\n",
        "train_generator = train_datagen.flow_from_directory(\n",
        "        train_dir,  # This is the source directory for training images\n",
        "        target_size=Image_Size,  # All images will be resized to 128x128\n",
        "        batch_size=4,\n",
        "        # Since we use binary_crossentropy loss, we need binary labels\n",
        "        class_mode='categorical')"
      ],
      "metadata": {
        "colab": {
          "base_uri": "https://localhost:8080/"
        },
        "id": "7snn3ihSXE1U",
        "outputId": "f577a07e-6dfe-46e5-eb85-c3705990bb68"
      },
      "execution_count": null,
      "outputs": [
        {
          "output_type": "stream",
          "name": "stdout",
          "text": [
            "Found 640 images belonging to 2 classes.\n"
          ]
        }
      ]
    },
    {
      "cell_type": "code",
      "source": [
        "# Flow validation images in batches of 20 using test_datagen generator\n",
        "validation_generator = test_datagen.flow_from_directory(\n",
        "        validation_dir,\n",
        "        target_size=Image_Size,\n",
        "        batch_size=4,\n",
        "        class_mode='categorical')"
      ],
      "metadata": {
        "id": "QRg3bEDVXh46",
        "colab": {
          "base_uri": "https://localhost:8080/"
        },
        "outputId": "0b4500a5-ba7f-40d3-9f63-8aa3d0e9282c"
      },
      "execution_count": null,
      "outputs": [
        {
          "output_type": "stream",
          "name": "stdout",
          "text": [
            "Found 160 images belonging to 2 classes.\n"
          ]
        }
      ]
    },
    {
      "cell_type": "markdown",
      "source": [
        "###Training"
      ],
      "metadata": {
        "id": "Uj1xMBgnB8Z8"
      }
    },
    {
      "cell_type": "code",
      "source": [
        "#early_stopping= tf.keras.callbacks.EarlyStopping()\n",
        "classification_history= model.fit(train_generator,epochs= 30,verbose= 1,validation_data= validation_generator)"
      ],
      "metadata": {
        "id": "ZoXylv9Lb30j",
        "colab": {
          "base_uri": "https://localhost:8080/"
        },
        "outputId": "312c2734-66f8-487b-b08a-4e60d1732f8b"
      },
      "execution_count": null,
      "outputs": [
        {
          "output_type": "stream",
          "name": "stdout",
          "text": [
            "Epoch 1/30\n",
            "160/160 [==============================] - 72s 443ms/step - loss: 0.4223 - accuracy: 0.8734 - val_loss: 0.6372 - val_accuracy: 0.8250\n",
            "Epoch 2/30\n",
            "160/160 [==============================] - 78s 486ms/step - loss: 0.3825 - accuracy: 0.8813 - val_loss: 0.5014 - val_accuracy: 0.8375\n",
            "Epoch 3/30\n",
            "160/160 [==============================] - 78s 488ms/step - loss: 0.3139 - accuracy: 0.8938 - val_loss: 0.4467 - val_accuracy: 0.8500\n",
            "Epoch 4/30\n",
            "160/160 [==============================] - 82s 516ms/step - loss: 0.2915 - accuracy: 0.9062 - val_loss: 0.4196 - val_accuracy: 0.8438\n",
            "Epoch 5/30\n",
            "160/160 [==============================] - 77s 484ms/step - loss: 0.2967 - accuracy: 0.8938 - val_loss: 0.3926 - val_accuracy: 0.8750\n",
            "Epoch 6/30\n",
            "160/160 [==============================] - 68s 424ms/step - loss: 0.2912 - accuracy: 0.8938 - val_loss: 0.4022 - val_accuracy: 0.8500\n",
            "Epoch 7/30\n",
            "160/160 [==============================] - 78s 490ms/step - loss: 0.2620 - accuracy: 0.9094 - val_loss: 0.3459 - val_accuracy: 0.8687\n",
            "Epoch 8/30\n",
            "160/160 [==============================] - 77s 484ms/step - loss: 0.2591 - accuracy: 0.9047 - val_loss: 0.3384 - val_accuracy: 0.8625\n",
            "Epoch 9/30\n",
            "160/160 [==============================] - 77s 484ms/step - loss: 0.2307 - accuracy: 0.9172 - val_loss: 0.3218 - val_accuracy: 0.9062\n",
            "Epoch 10/30\n",
            "160/160 [==============================] - 81s 507ms/step - loss: 0.2243 - accuracy: 0.9266 - val_loss: 0.2620 - val_accuracy: 0.9062\n",
            "Epoch 11/30\n",
            "160/160 [==============================] - 72s 447ms/step - loss: 0.2016 - accuracy: 0.9312 - val_loss: 0.2321 - val_accuracy: 0.9187\n",
            "Epoch 12/30\n",
            "160/160 [==============================] - 78s 486ms/step - loss: 0.1718 - accuracy: 0.9406 - val_loss: 0.2225 - val_accuracy: 0.9375\n",
            "Epoch 13/30\n",
            "160/160 [==============================] - 71s 441ms/step - loss: 0.1802 - accuracy: 0.9250 - val_loss: 0.2921 - val_accuracy: 0.8938\n",
            "Epoch 14/30\n",
            "160/160 [==============================] - 67s 419ms/step - loss: 0.1774 - accuracy: 0.9328 - val_loss: 0.1664 - val_accuracy: 0.9563\n",
            "Epoch 15/30\n",
            "160/160 [==============================] - 72s 450ms/step - loss: 0.1710 - accuracy: 0.9281 - val_loss: 0.1679 - val_accuracy: 0.9187\n",
            "Epoch 16/30\n",
            "160/160 [==============================] - 68s 424ms/step - loss: 0.1568 - accuracy: 0.9391 - val_loss: 0.1361 - val_accuracy: 0.9625\n",
            "Epoch 17/30\n",
            "160/160 [==============================] - 67s 421ms/step - loss: 0.1589 - accuracy: 0.9422 - val_loss: 0.1591 - val_accuracy: 0.9563\n",
            "Epoch 18/30\n",
            "160/160 [==============================] - 81s 505ms/step - loss: 0.1543 - accuracy: 0.9453 - val_loss: 0.1445 - val_accuracy: 0.9563\n",
            "Epoch 19/30\n",
            "160/160 [==============================] - 78s 490ms/step - loss: 0.1448 - accuracy: 0.9453 - val_loss: 0.1064 - val_accuracy: 0.9625\n",
            "Epoch 20/30\n",
            "160/160 [==============================] - 78s 489ms/step - loss: 0.1348 - accuracy: 0.9500 - val_loss: 0.1676 - val_accuracy: 0.9375\n",
            "Epoch 21/30\n",
            "160/160 [==============================] - 79s 497ms/step - loss: 0.1206 - accuracy: 0.9516 - val_loss: 0.0990 - val_accuracy: 0.9500\n",
            "Epoch 22/30\n",
            "160/160 [==============================] - 78s 489ms/step - loss: 0.1033 - accuracy: 0.9578 - val_loss: 0.0721 - val_accuracy: 0.9625\n",
            "Epoch 23/30\n",
            "160/160 [==============================] - 77s 480ms/step - loss: 0.1228 - accuracy: 0.9500 - val_loss: 0.4223 - val_accuracy: 0.8687\n",
            "Epoch 24/30\n",
            "160/160 [==============================] - 77s 483ms/step - loss: 0.1029 - accuracy: 0.9594 - val_loss: 0.1509 - val_accuracy: 0.9375\n",
            "Epoch 25/30\n",
            "160/160 [==============================] - 79s 491ms/step - loss: 0.1152 - accuracy: 0.9516 - val_loss: 0.0947 - val_accuracy: 0.9563\n",
            "Epoch 26/30\n",
            "160/160 [==============================] - 76s 475ms/step - loss: 0.0930 - accuracy: 0.9594 - val_loss: 0.0651 - val_accuracy: 0.9563\n",
            "Epoch 27/30\n",
            "160/160 [==============================] - 80s 503ms/step - loss: 0.0992 - accuracy: 0.9656 - val_loss: 0.1064 - val_accuracy: 0.9500\n",
            "Epoch 28/30\n",
            "160/160 [==============================] - 77s 483ms/step - loss: 0.1000 - accuracy: 0.9641 - val_loss: 0.0826 - val_accuracy: 0.9688\n",
            "Epoch 29/30\n",
            "160/160 [==============================] - 78s 490ms/step - loss: 0.0999 - accuracy: 0.9641 - val_loss: 0.2580 - val_accuracy: 0.9312\n",
            "Epoch 30/30\n",
            "160/160 [==============================] - 78s 491ms/step - loss: 0.0896 - accuracy: 0.9656 - val_loss: 0.1396 - val_accuracy: 0.9563\n"
          ]
        }
      ]
    },
    {
      "cell_type": "code",
      "source": [
        "import matplotlib.pyplot as plt\n",
        "acc = classification_history.history['accuracy']\n",
        "val_acc = classification_history.history['val_accuracy']\n",
        "loss = classification_history.history['loss']\n",
        "val_loss = classification_history.history['val_loss']\n",
        "\n",
        "epochs = range(len(acc))\n",
        "\n",
        "plt.plot(epochs, acc, 'bo', label='Training accuracy')\n",
        "plt.plot(epochs, val_acc, 'b', label='Validation accuracy')\n",
        "plt.title('Training and validation accuracy')\n",
        "\n",
        "plt.figure()\n",
        "\n",
        "plt.plot(epochs, loss, 'bo', label='Training Loss')\n",
        "plt.plot(epochs, val_loss, 'b', label='Validation Loss')\n",
        "plt.title('Training and validation loss')\n",
        "plt.legend()\n",
        "\n",
        "plt.show()"
      ],
      "metadata": {
        "colab": {
          "base_uri": "https://localhost:8080/",
          "height": 545
        },
        "id": "ykLTz-YjfXKG",
        "outputId": "5bd55935-d9a3-4501-d01e-11c59592ae5e"
      },
      "execution_count": null,
      "outputs": [
        {
          "output_type": "display_data",
          "data": {
            "text/plain": [
              "<Figure size 432x288 with 1 Axes>"
            ],
            "image/png": "[encoded data removed]"
          },
          "metadata": {
            "needs_background": "light"
          }
        },
        {
          "output_type": "display_data",
          "data": {
            "text/plain": [
              "<Figure size 432x288 with 1 Axes>"
            ],
            "image/png": "[encoded data removed]"
          },
          "metadata": {
            "needs_background": "light"
          }
        }
      ]
    },
    {
      "cell_type": "markdown",
      "source": [
        "##Preprocesssing the test dataset"
      ],
      "metadata": {
        "id": "xfPQ_HJVCA-I"
      }
    },
    {
      "cell_type": "code",
      "source": [
        "test_dir = os.path.join(\"/content/drive/MyDrive/IPDA/Test_dataset\")"
      ],
      "metadata": {
        "id": "lmKLKp6l_DYA"
      },
      "execution_count": null,
      "outputs": []
    },
    {
      "cell_type": "code",
      "source": [
        "test1_datagen = ImageDataGenerator(rescale=1./255)"
      ],
      "metadata": {
        "id": "SMRPQU8t_Vl8"
      },
      "execution_count": null,
      "outputs": []
    },
    {
      "cell_type": "code",
      "source": [
        "test_generator = test_datagen.flow_from_directory(\n",
        "        test_dir,\n",
        "        target_size=Image_Size,\n",
        "        batch_size=4,\n",
        "        class_mode='categorical')"
      ],
      "metadata": {
        "colab": {
          "base_uri": "https://localhost:8080/"
        },
        "id": "VT6ZdUUb_cUs",
        "outputId": "dfac6117-b24a-47cd-a5a0-2efa85ee2a84"
      },
      "execution_count": null,
      "outputs": [
        {
          "output_type": "stream",
          "name": "stdout",
          "text": [
            "Found 200 images belonging to 2 classes.\n"
          ]
        }
      ]
    },
    {
      "cell_type": "markdown",
      "source": [
        "##Results on running the model on test data(data which it has not encountered with during training)"
      ],
      "metadata": {
        "id": "rm_ohDx0CI9i"
      }
    },
    {
      "cell_type": "code",
      "source": [
        "model.evaluate(test_generator, use_multiprocessing= True, workers=10)"
      ],
      "metadata": {
        "colab": {
          "base_uri": "https://localhost:8080/"
        },
        "id": "Uv_HGb3V_tzj",
        "outputId": "b1b0c6da-8dbe-4cf2-c62d-42c1ca4d8a7e"
      },
      "execution_count": null,
      "outputs": [
        {
          "output_type": "stream",
          "name": "stdout",
          "text": [
            "50/50 [==============================] - 23s 389ms/step - loss: 0.2342 - accuracy: 0.9250\n"
          ]
        },
        {
          "output_type": "execute_result",
          "data": {
            "text/plain": [
              "[0.23418840765953064, 0.925000011920929]"
            ]
          },
          "metadata": {},
          "execution_count": 31
        }
      ]
    },
    {
      "cell_type": "code",
      "source": [
        "model.save(\"classification.h5\")"
      ],
      "metadata": {
        "id": "ocarBfrB0ShI"
      },
      "execution_count": null,
      "outputs": []
    },
    {
      "cell_type": "code",
      "source": [
        "def import_and_predict(image_data,model):\n",
        "  size= (100,100)\n",
        "  \n",
        "  img= np.asarray(image_data)\n",
        "  img_reshape= img[np.newaxis,...]\n",
        "  prediction= model.predict(img_reshape)\n",
        "  return prediction"
      ],
      "metadata": {
        "id": "ax7g5OY4mbK_"
      },
      "execution_count": null,
      "outputs": []
    },
    {
      "cell_type": "code",
      "source": [
        "predictions= import_and_predict(image, model)\n",
        "classes= ['Ids','Non_Ids' ]\n",
        "string= 'This image may be:'+classes[np.argmax(predictions)]"
      ],
      "metadata": {
        "id": "yzzyl1JaAHSd"
      },
      "execution_count": null,
      "outputs": []
    }
  ]
}