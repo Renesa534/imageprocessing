{
  "cells": [
    {
      "cell_type": "code",
      "execution_count": null,
      "metadata": {
        "id": "V8roL62_DASx"
      },
      "outputs": [],
      "source": [
        "from tensorflow import keras\n",
        "import tensorflow as tf\n",
        "import os\n",
        "from keras.layers import Dense,Dropout,Activation,Add,MaxPooling2D,Conv2D,Flatten,GlobalAveragePooling2D, Lambda, Conv2DTranspose, concatenate\n",
        "from keras.models import Sequential\n",
        "from keras.preprocessing.image import ImageDataGenerator\n",
        "from keras import Model\n",
        "from keras.layers import BatchNormalization\n",
        "import numpy as np\n",
        "import matplotlib.pyplot as plt\n",
        "import pandas as pd\n",
        "from keras import layers\n",
        "from keras.preprocessing import image\n",
        "import seaborn as sns\n",
        "import zipfile\n",
        "import shutil\n",
        "import cv2"
      ]
    },
    {
      "cell_type": "code",
      "execution_count": null,
      "metadata": {
        "colab": {
          "base_uri": "https://localhost:8080/"
        },
        "id": "WL0-GrtBDMD9",
        "outputId": "27430f30-88f5-4942-e747-cc1ef038125c"
      },
      "outputs": [
        {
          "output_type": "stream",
          "name": "stdout",
          "text": [
            "Mounted at /content/drive\n"
          ]
        }
      ],
      "source": [
        "from google.colab import drive\n",
        "drive.mount('/content/drive')\n"
      ]
    },
    {
      "cell_type": "code",
      "execution_count": null,
      "metadata": {
        "id": "V9WxZRMRIlEQ"
      },
      "outputs": [],
      "source": [
        "\n",
        "Image_Width=256  \n",
        "Image_Height=256\n",
        "Image_Size=(Image_Width,Image_Height)\n",
        "Image_Channels=1"
      ]
    },
    {
      "cell_type": "code",
      "execution_count": null,
      "metadata": {
        "id": "yfamBhzcMVDo"
      },
      "outputs": [],
      "source": [
        "train_dir = \"/content/drive/MyDrive/IPDA_segmentation/Train\"\n",
        "train_images_dir = os.path.join(train_dir, 'IDS')\n",
        "train_labels_dir = os.path.join(train_dir, 'GROUNDTRUTH')"
      ]
    },
    {
      "cell_type": "code",
      "execution_count": null,
      "metadata": {
        "id": "JPJAXgo_TZKJ"
      },
      "outputs": [],
      "source": [
        "validation_dir = \"/content/drive/MyDrive/IPDA_segmentation/Test\"\n",
        "validation_images_dir = os.path.join(validation_dir, 'IDS')\n",
        "validation_labels_dir = os.path.join(validation_dir, 'GROUNDTRUTH')"
      ]
    },
    {
      "cell_type": "code",
      "execution_count": null,
      "metadata": {
        "id": "EmzFSZxDWOZu"
      },
      "outputs": [],
      "source": [
        "from keras.engine.input_layer import Input\n",
        "\n",
        "input= Input((Image_Width, Image_Height, Image_Channels))\n",
        "\n",
        "c1 = Conv2D(64, (3, 3), activation='relu', kernel_initializer='he_normal', padding='same') (input)\n",
        "c1 = Dropout(0.1) (c1)\n",
        "c1 = Conv2D(64, (3, 3), activation='relu', kernel_initializer='he_normal', padding='same') (c1)\n",
        "p1 = MaxPooling2D((2, 2)) (c1)\n",
        "\n",
        "c2 = Conv2D(128, (3, 3), activation='relu', kernel_initializer='he_normal', padding='same') (p1)\n",
        "c2 = Dropout(0.1) (c2)\n",
        "c2 = Conv2D(128, (3, 3), activation='relu', kernel_initializer='he_normal', padding='same') (c2)\n",
        "p2 = MaxPooling2D((2, 2)) (c2)\n",
        "\n",
        "c3 = Conv2D(256, (3, 3), activation='relu', kernel_initializer='he_normal', padding='same') (p2)\n",
        "c3 = Dropout(0.3) (c3)\n",
        "c3 = Conv2D(256, (3, 3), activation='relu', kernel_initializer='he_normal', padding='same') (c3)\n",
        "\n",
        "\n",
        "u6 = Conv2DTranspose(128, (2, 2), strides=(2, 2), padding='same') (c3)\n",
        "u6 = concatenate([u6, c2])\n",
        "c6 = Conv2D(128, (3, 3), activation='relu', kernel_initializer='he_normal', padding='same') (u6)\n",
        "c6 = Dropout(0.2) (c6)\n",
        "c6 = Conv2D(128, (3, 3), activation='relu', kernel_initializer='he_normal', padding='same') (c6)\n",
        "\n",
        "u7 = Conv2DTranspose(64, (2, 2), strides=(2, 2), padding='same') (c6)\n",
        "u7 = concatenate([u7, c1])\n",
        "c7 = Conv2D(64, (3, 3), activation='relu', kernel_initializer='he_normal', padding='same') (u7)\n",
        "c7 = Dropout(0.2) (c7)\n",
        "c7 = Conv2D(64, (3, 3), activation='relu', kernel_initializer='he_normal', padding='same') (c7)\n",
        "\n",
        "\n",
        "\n",
        "output = Conv2D(1, (1, 1), activation='sigmoid') (c7)\n",
        "\n"
      ]
    },
    {
      "cell_type": "code",
      "execution_count": null,
      "metadata": {
        "id": "-8RjY-OGcPmr"
      },
      "outputs": [],
      "source": [
        "model_segment= Model(inputs= input, outputs= output) "
      ]
    },
    {
      "cell_type": "code",
      "execution_count": null,
      "metadata": {
        "colab": {
          "base_uri": "https://localhost:8080/"
        },
        "id": "PlfIAiiQcfNU",
        "outputId": "321a2517-459b-4181-c74f-918d47be73e3"
      },
      "outputs": [
        {
          "output_type": "stream",
          "name": "stdout",
          "text": [
            "Model: \"model\"\n",
            "__________________________________________________________________________________________________\n",
            " Layer (type)                   Output Shape         Param #     Connected to                     \n",
            "==================================================================================================\n",
            " input_1 (InputLayer)           [(None, 256, 256, 1  0           []                               \n",
            "                                )]                                                                \n",
            "                                                                                                  \n",
            " conv2d (Conv2D)                (None, 256, 256, 64  640         ['input_1[0][0]']                \n",
            "                                )                                                                 \n",
            "                                                                                                  \n",
            " dropout (Dropout)              (None, 256, 256, 64  0           ['conv2d[0][0]']                 \n",
            "                                )                                                                 \n",
            "                                                                                                  \n",
            " conv2d_1 (Conv2D)              (None, 256, 256, 64  36928       ['dropout[0][0]']                \n",
            "                                )                                                                 \n",
            "                                                                                                  \n",
            " max_pooling2d (MaxPooling2D)   (None, 128, 128, 64  0           ['conv2d_1[0][0]']               \n",
            "                                )                                                                 \n",
            "                                                                                                  \n",
            " conv2d_2 (Conv2D)              (None, 128, 128, 12  73856       ['max_pooling2d[0][0]']          \n",
            "                                8)                                                                \n",
            "                                                                                                  \n",
            " dropout_1 (Dropout)            (None, 128, 128, 12  0           ['conv2d_2[0][0]']               \n",
            "                                8)                                                                \n",
            "                                                                                                  \n",
            " conv2d_3 (Conv2D)              (None, 128, 128, 12  147584      ['dropout_1[0][0]']              \n",
            "                                8)                                                                \n",
            "                                                                                                  \n",
            " max_pooling2d_1 (MaxPooling2D)  (None, 64, 64, 128)  0          ['conv2d_3[0][0]']               \n",
            "                                                                                                  \n",
            " conv2d_4 (Conv2D)              (None, 64, 64, 256)  295168      ['max_pooling2d_1[0][0]']        \n",
            "                                                                                                  \n",
            " dropout_2 (Dropout)            (None, 64, 64, 256)  0           ['conv2d_4[0][0]']               \n",
            "                                                                                                  \n",
            " conv2d_5 (Conv2D)              (None, 64, 64, 256)  590080      ['dropout_2[0][0]']              \n",
            "                                                                                                  \n",
            " conv2d_transpose (Conv2DTransp  (None, 128, 128, 12  131200     ['conv2d_5[0][0]']               \n",
            " ose)                           8)                                                                \n",
            "                                                                                                  \n",
            " concatenate (Concatenate)      (None, 128, 128, 25  0           ['conv2d_transpose[0][0]',       \n",
            "                                6)                                'conv2d_3[0][0]']               \n",
            "                                                                                                  \n",
            " conv2d_6 (Conv2D)              (None, 128, 128, 12  295040      ['concatenate[0][0]']            \n",
            "                                8)                                                                \n",
            "                                                                                                  \n",
            " dropout_3 (Dropout)            (None, 128, 128, 12  0           ['conv2d_6[0][0]']               \n",
            "                                8)                                                                \n",
            "                                                                                                  \n",
            " conv2d_7 (Conv2D)              (None, 128, 128, 12  147584      ['dropout_3[0][0]']              \n",
            "                                8)                                                                \n",
            "                                                                                                  \n",
            " conv2d_transpose_1 (Conv2DTran  (None, 256, 256, 64  32832      ['conv2d_7[0][0]']               \n",
            " spose)                         )                                                                 \n",
            "                                                                                                  \n",
            " concatenate_1 (Concatenate)    (None, 256, 256, 12  0           ['conv2d_transpose_1[0][0]',     \n",
            "                                8)                                'conv2d_1[0][0]']               \n",
            "                                                                                                  \n",
            " conv2d_8 (Conv2D)              (None, 256, 256, 64  73792       ['concatenate_1[0][0]']          \n",
            "                                )                                                                 \n",
            "                                                                                                  \n",
            " dropout_4 (Dropout)            (None, 256, 256, 64  0           ['conv2d_8[0][0]']               \n",
            "                                )                                                                 \n",
            "                                                                                                  \n",
            " conv2d_9 (Conv2D)              (None, 256, 256, 64  36928       ['dropout_4[0][0]']              \n",
            "                                )                                                                 \n",
            "                                                                                                  \n",
            " conv2d_10 (Conv2D)             (None, 256, 256, 1)  65          ['conv2d_9[0][0]']               \n",
            "                                                                                                  \n",
            "==================================================================================================\n",
            "Total params: 1,861,697\n",
            "Trainable params: 1,861,697\n",
            "Non-trainable params: 0\n",
            "__________________________________________________________________________________________________\n"
          ]
        }
      ],
      "source": [
        "model_segment.summary()"
      ]
    },
    {
      "cell_type": "code",
      "execution_count": null,
      "metadata": {
        "id": "jGGWDAJAciWG"
      },
      "outputs": [],
      "source": [
        "from keras.optimizers import SGD\n",
        "model_segment.compile(loss='binary_crossentropy', optimizer=SGD(momentum= 0.9 ),metrics=['accuracy'])"
      ]
    },
    {
      "cell_type": "code",
      "source": [
        "!rmdir /content/MASK_TRAIN_DIR1/.ipynb_checkpoints"
      ],
      "metadata": {
        "id": "PJj_wFq14tQB"
      },
      "execution_count": null,
      "outputs": []
    },
    {
      "cell_type": "code",
      "source": [
        "!rmdir /content/MASK_VALIDATION_DIR1/.ipynb_checkpoints"
      ],
      "metadata": {
        "id": "ZVnEJgV75ADr"
      },
      "execution_count": null,
      "outputs": []
    },
    {
      "cell_type": "code",
      "execution_count": null,
      "metadata": {
        "colab": {
          "base_uri": "https://localhost:8080/"
        },
        "id": "hJuIBg6JG41p",
        "outputId": "f2559b9e-10cd-484e-92b1-3fb295ab96b7"
      },
      "outputs": [
        {
          "output_type": "stream",
          "name": "stdout",
          "text": [
            "Found 400 images belonging to 1 classes.\n",
            "Found 400 images belonging to 1 classes.\n",
            "Found 100 images belonging to 1 classes.\n",
            "Found 100 images belonging to 1 classes.\n"
          ]
        }
      ],
      "source": [
        "SEED= 10\n",
        "np.random.seed(SEED)\n",
        "train_datagen = ImageDataGenerator(rescale=1. / 255)\n",
        "train_image_generator = train_datagen.flow_from_directory(train_images_dir,\n",
        "                                                              target_size=Image_Size,\n",
        "                                                              class_mode=None,\n",
        "                                                              batch_size= 8,\n",
        "                                                              color_mode='grayscale',\n",
        "                                                              seed=SEED)\n",
        "\n",
        "train_mask_generator = train_datagen.flow_from_directory(train_labels_dir,\n",
        "                                                             target_size=Image_Size,\n",
        "                                                             class_mode=None,  \n",
        "                                                             batch_size= 8,\n",
        "                                                             color_mode='grayscale',\n",
        "                                                             seed=SEED)\n",
        "\n",
        "val_datagen = ImageDataGenerator(rescale=1. / 255)\n",
        "val_image_generator = val_datagen.flow_from_directory(validation_images_dir,\n",
        "                                                          target_size=Image_Size,\n",
        "                                                          class_mode=None,\n",
        "                                                          batch_size= 8,\n",
        "                                                          color_mode='grayscale',\n",
        "                                                          seed=SEED)\n",
        "\n",
        "val_mask_generator = val_datagen.flow_from_directory(validation_labels_dir,\n",
        "                                                         target_size=Image_Size,\n",
        "                                                         class_mode=None,\n",
        "                                                         batch_size=8,\n",
        "                                                         color_mode='grayscale',\n",
        "                                                         seed=SEED)\n",
        "\n",
        "train_generator = zip(train_image_generator, train_mask_generator)\n",
        "val_generator = zip(val_image_generator, val_mask_generator)\n",
        "\n",
        "\n"
      ]
    },
    {
      "cell_type": "markdown",
      "source": [],
      "metadata": {
        "id": "cl9y2yp1wDeF"
      }
    },
    {
      "cell_type": "code",
      "source": [
        "os.chdir('/content/MASK_TRAIN_DIR1')"
      ],
      "metadata": {
        "id": "oZK-dDRo4NTa"
      },
      "execution_count": null,
      "outputs": []
    },
    {
      "cell_type": "code",
      "execution_count": null,
      "metadata": {
        "colab": {
          "base_uri": "https://localhost:8080/"
        },
        "id": "MsWksFBsgR1h",
        "outputId": "6a6f596f-bcb3-4a1e-80c5-c1cc3bce07ad"
      },
      "outputs": [
        {
          "output_type": "stream",
          "name": "stderr",
          "text": [
            "WARNING:tensorflow:`batch_size` is no longer needed in the `TensorBoard` Callback and will be ignored in TensorFlow 2.0.\n"
          ]
        },
        {
          "output_type": "stream",
          "name": "stdout",
          "text": [
            "Epoch 1/100\n",
            "50/50 [==============================] - 596s 12s/step - loss: 0.4500 - accuracy: 0.8880 - val_loss: 0.4034 - val_accuracy: 0.8909\n",
            "Epoch 2/100\n",
            "50/50 [==============================] - 45s 902ms/step - loss: 0.3448 - accuracy: 0.8952 - val_loss: 0.2372 - val_accuracy: 0.8907\n",
            "Epoch 3/100\n",
            "50/50 [==============================] - 45s 914ms/step - loss: 0.2467 - accuracy: 0.9045 - val_loss: 0.2530 - val_accuracy: 0.9023\n",
            "Epoch 4/100\n",
            "50/50 [==============================] - 47s 947ms/step - loss: 0.2086 - accuracy: 0.9150 - val_loss: 0.4103 - val_accuracy: 0.8953\n",
            "Epoch 5/100\n",
            "50/50 [==============================] - 44s 884ms/step - loss: 0.1863 - accuracy: 0.9237 - val_loss: 0.2570 - val_accuracy: 0.9135\n",
            "Epoch 6/100\n",
            "50/50 [==============================] - 45s 911ms/step - loss: 0.1314 - accuracy: 0.9487 - val_loss: 0.1704 - val_accuracy: 0.9348\n",
            "Epoch 7/100\n",
            "50/50 [==============================] - 46s 932ms/step - loss: 0.1047 - accuracy: 0.9600 - val_loss: 0.1106 - val_accuracy: 0.9625\n",
            "Epoch 8/100\n",
            "50/50 [==============================] - 44s 896ms/step - loss: 0.1045 - accuracy: 0.9603 - val_loss: 0.2203 - val_accuracy: 0.9366\n",
            "Epoch 9/100\n",
            "50/50 [==============================] - 45s 918ms/step - loss: 0.0872 - accuracy: 0.9675 - val_loss: 0.0848 - val_accuracy: 0.9704\n",
            "Epoch 10/100\n",
            "50/50 [==============================] - 45s 915ms/step - loss: 0.0831 - accuracy: 0.9683 - val_loss: 0.1953 - val_accuracy: 0.9467\n",
            "Epoch 11/100\n",
            "50/50 [==============================] - 43s 875ms/step - loss: 0.0800 - accuracy: 0.9700 - val_loss: 0.0923 - val_accuracy: 0.9666\n",
            "Epoch 12/100\n",
            "50/50 [==============================] - 46s 932ms/step - loss: 0.0642 - accuracy: 0.9755 - val_loss: 0.0830 - val_accuracy: 0.9726\n",
            "Epoch 13/100\n",
            "50/50 [==============================] - 45s 904ms/step - loss: 0.0726 - accuracy: 0.9712 - val_loss: 0.0579 - val_accuracy: 0.9782\n",
            "Epoch 14/100\n",
            "50/50 [==============================] - 44s 886ms/step - loss: 0.0630 - accuracy: 0.9761 - val_loss: 0.0837 - val_accuracy: 0.9709\n",
            "Epoch 15/100\n",
            "50/50 [==============================] - 46s 935ms/step - loss: 0.0729 - accuracy: 0.9724 - val_loss: 0.1064 - val_accuracy: 0.9654\n",
            "Epoch 16/100\n",
            "50/50 [==============================] - 44s 890ms/step - loss: 0.0576 - accuracy: 0.9779 - val_loss: 0.0708 - val_accuracy: 0.9757\n",
            "Epoch 17/100\n",
            "50/50 [==============================] - 45s 919ms/step - loss: 0.0592 - accuracy: 0.9773 - val_loss: 0.0566 - val_accuracy: 0.9794\n",
            "Epoch 18/100\n",
            "50/50 [==============================] - 45s 903ms/step - loss: 0.0513 - accuracy: 0.9799 - val_loss: 0.0744 - val_accuracy: 0.9752\n",
            "Epoch 19/100\n",
            "50/50 [==============================] - 46s 927ms/step - loss: 0.0489 - accuracy: 0.9806 - val_loss: 0.0809 - val_accuracy: 0.9729\n",
            "Epoch 20/100\n",
            "50/50 [==============================] - 44s 882ms/step - loss: 0.0464 - accuracy: 0.9815 - val_loss: 0.0742 - val_accuracy: 0.9737\n",
            "Epoch 21/100\n",
            "50/50 [==============================] - 44s 881ms/step - loss: 0.0436 - accuracy: 0.9823 - val_loss: 0.0772 - val_accuracy: 0.9724\n",
            "Epoch 22/100\n",
            "50/50 [==============================] - 43s 871ms/step - loss: 0.0397 - accuracy: 0.9841 - val_loss: 0.0512 - val_accuracy: 0.9811\n",
            "Epoch 23/100\n",
            "50/50 [==============================] - 43s 864ms/step - loss: 0.0361 - accuracy: 0.9857 - val_loss: 0.0461 - val_accuracy: 0.9824\n",
            "Epoch 24/100\n",
            "50/50 [==============================] - 45s 907ms/step - loss: 0.0410 - accuracy: 0.9841 - val_loss: 0.0619 - val_accuracy: 0.9781\n",
            "Epoch 25/100\n",
            "50/50 [==============================] - 43s 873ms/step - loss: 0.0356 - accuracy: 0.9864 - val_loss: 0.0574 - val_accuracy: 0.9775\n",
            "Epoch 26/100\n",
            "50/50 [==============================] - 46s 932ms/step - loss: 0.0322 - accuracy: 0.9876 - val_loss: 0.0552 - val_accuracy: 0.9792\n",
            "Epoch 27/100\n",
            "50/50 [==============================] - 45s 908ms/step - loss: 0.0333 - accuracy: 0.9874 - val_loss: 0.0536 - val_accuracy: 0.9806\n",
            "Epoch 28/100\n",
            "50/50 [==============================] - 51s 1s/step - loss: 0.0311 - accuracy: 0.9883 - val_loss: 0.0337 - val_accuracy: 0.9871\n",
            "Epoch 29/100\n",
            "50/50 [==============================] - 45s 901ms/step - loss: 0.0290 - accuracy: 0.9891 - val_loss: 0.0475 - val_accuracy: 0.9831\n",
            "Epoch 30/100\n",
            "50/50 [==============================] - 43s 866ms/step - loss: 0.0327 - accuracy: 0.9877 - val_loss: 0.0509 - val_accuracy: 0.9810\n",
            "Epoch 31/100\n",
            "50/50 [==============================] - 43s 863ms/step - loss: 0.0291 - accuracy: 0.9892 - val_loss: 0.0332 - val_accuracy: 0.9877\n",
            "Epoch 32/100\n",
            "50/50 [==============================] - 45s 909ms/step - loss: 0.0291 - accuracy: 0.9893 - val_loss: 0.0345 - val_accuracy: 0.9871\n",
            "Epoch 33/100\n",
            "50/50 [==============================] - 46s 931ms/step - loss: 0.0265 - accuracy: 0.9902 - val_loss: 0.0421 - val_accuracy: 0.9848\n",
            "Epoch 34/100\n",
            "50/50 [==============================] - 44s 896ms/step - loss: 0.0277 - accuracy: 0.9898 - val_loss: 0.0539 - val_accuracy: 0.9800\n",
            "Epoch 35/100\n",
            "50/50 [==============================] - 43s 868ms/step - loss: 0.0298 - accuracy: 0.9888 - val_loss: 0.0233 - val_accuracy: 0.9915\n",
            "Epoch 36/100\n",
            "50/50 [==============================] - 45s 917ms/step - loss: 0.0297 - accuracy: 0.9889 - val_loss: 0.0393 - val_accuracy: 0.9852\n",
            "Epoch 37/100\n",
            "50/50 [==============================] - 43s 877ms/step - loss: 0.0229 - accuracy: 0.9916 - val_loss: 0.0409 - val_accuracy: 0.9851\n",
            "Epoch 38/100\n",
            "50/50 [==============================] - 45s 913ms/step - loss: 0.0226 - accuracy: 0.9917 - val_loss: 0.0383 - val_accuracy: 0.9860\n",
            "Epoch 39/100\n",
            "50/50 [==============================] - 43s 863ms/step - loss: 0.0222 - accuracy: 0.9918 - val_loss: 0.0577 - val_accuracy: 0.9797\n",
            "Epoch 40/100\n",
            "50/50 [==============================] - 43s 862ms/step - loss: 0.0230 - accuracy: 0.9916 - val_loss: 0.0322 - val_accuracy: 0.9885\n",
            "Epoch 41/100\n",
            "50/50 [==============================] - 45s 905ms/step - loss: 0.0213 - accuracy: 0.9922 - val_loss: 0.0327 - val_accuracy: 0.9882\n",
            "Epoch 42/100\n",
            "50/50 [==============================] - 43s 861ms/step - loss: 0.0207 - accuracy: 0.9925 - val_loss: 0.0358 - val_accuracy: 0.9872\n",
            "Epoch 43/100\n",
            "50/50 [==============================] - 43s 863ms/step - loss: 0.0274 - accuracy: 0.9900 - val_loss: 0.0274 - val_accuracy: 0.9899\n",
            "Epoch 44/100\n",
            "50/50 [==============================] - 44s 884ms/step - loss: 0.0251 - accuracy: 0.9908 - val_loss: 0.0335 - val_accuracy: 0.9874\n",
            "Epoch 45/100\n",
            "50/50 [==============================] - 45s 911ms/step - loss: 0.0211 - accuracy: 0.9923 - val_loss: 0.0334 - val_accuracy: 0.9880\n"
          ]
        }
      ],
      "source": [
        "from keras.callbacks import TensorBoard   \n",
        "earlystopping= tf.keras.callbacks.EarlyStopping(patience = 10)                            \n",
        "tb = TensorBoard(log_dir='./logs/', batch_size=8, write_graph=True)\n",
        "\n",
        "segmentation_history= model_segment.fit(train_generator,epochs= 100,verbose= 1,validation_data= val_generator, steps_per_epoch= 50, validation_steps= 12, callbacks= [earlystopping, tb])      "
      ]
    },
    {
      "cell_type": "code",
      "execution_count": null,
      "metadata": {
        "colab": {
          "base_uri": "https://localhost:8080/",
          "height": 545
        },
        "id": "Xv10GCQRHBl7",
        "outputId": "94d53554-fbb1-4182-e639-44b563ee4f1b"
      },
      "outputs": [
        {
          "output_type": "display_data",
          "data": {
            "text/plain": [
              "<Figure size 432x288 with 1 Axes>"
            ],
            "image/png": "[encoded data removed]"
          },
          "metadata": {
            "needs_background": "light"
          }
        },
        {
          "output_type": "display_data",
          "data": {
            "text/plain": [
              "<Figure size 432x288 with 1 Axes>"
            ],
            "image/png": "[encoded data removed]"
          },
          "metadata": {
            "needs_background": "light"
          }
        }
      ],
      "source": [
        "import matplotlib.pyplot as plt\n",
        "acc_segment = segmentation_history.history['accuracy']\n",
        "val_acc_segment = segmentation_history.history['accuracy']\n",
        "loss_segment = segmentation_history.history['loss']\n",
        "val_loss_segment = segmentation_history.history['val_loss']\n",
        "\n",
        "epochs_segment = range(len(acc_segment))\n",
        "\n",
        "plt.plot(epochs_segment, acc_segment, 'bo', label='Training accuracy')\n",
        "plt.plot(epochs_segment, val_acc_segment, 'b', label='Validation accuracy')\n",
        "plt.title('Training and validation accuracy')\n",
        "\n",
        "plt.figure()\n",
        "\n",
        "plt.plot(epochs_segment, loss_segment, 'bo', label='Training Loss')\n",
        "plt.plot(epochs_segment, val_loss_segment, 'b', label='Validation Loss')\n",
        "plt.title('Training and validation loss')\n",
        "plt.legend()\n",
        "\n",
        "plt.show()"
      ]
    },
    {
      "cell_type": "code",
      "source": [
        "model_segment.save('segmentation.h5')"
      ],
      "metadata": {
        "id": "3yJR1W9dCUvy"
      },
      "execution_count": null,
      "outputs": []
    },
    {
      "cell_type": "code",
      "execution_count": null,
      "metadata": {
        "id": "Vgryxb1ngvuz"
      },
      "outputs": [],
      "source": [
        "import cv2\n",
        "import numpy as np\n",
        "\n",
        "def order_points(pts):\n",
        "    rect = np.zeros((4, 2), dtype=\"float32\")\n",
        "\n",
        "    s = pts.sum(axis=1)\n",
        "    rect[0] = pts[np.argmin(s)]\n",
        "    rect[2] = pts[np.argmax(s)]\n",
        "\n",
        "    diff = np.diff(pts, axis=1)\n",
        "    rect[1] = pts[np.argmin(diff)]\n",
        "    rect[3] = pts[np.argmax(diff)]\n",
        "\n",
        "    return rect\n",
        "\n",
        "\n",
        "def four_point_transform(image, pts):\n",
        "    rect = order_points(pts)\n",
        "    (tl, tr, br, bl) = rect\n",
        "    widthA = np.sqrt(((br[0] - bl[0]) ** 2) + ((br[1] - bl[1]) ** 2))\n",
        "    widthB = np.sqrt(((tr[0] - tl[0]) ** 2) + ((tr[1] - tl[1]) ** 2))\n",
        "    maxWidth = max(int(widthA), int(widthB))\n",
        "\n",
        "    heightA = np.sqrt(((tr[0] - br[0]) ** 2) + ((tr[1] - br[1]) ** 2))\n",
        "    heightB = np.sqrt(((tl[0] - bl[0]) ** 2) + ((tl[1] - bl[1]) ** 2))\n",
        "    maxHeight = max(int(heightA), int(heightB))\n",
        "\n",
        "    dst = np.array([\n",
        "        [0, 0],\n",
        "        [maxWidth - 1, 0],\n",
        "        [maxWidth - 1, maxHeight - 1],\n",
        "        [0, maxHeight - 1]], dtype=\"float32\")\n",
        "\n",
        "    M = cv2.getPerspectiveTransform(rect, dst)\n",
        "    warped = cv2.warpPerspective(image, M, (maxWidth, maxHeight))\n",
        "    return warped\n",
        "\n",
        "\n",
        "def findLargestCountours(cntList, cntWidths):\n",
        "    newCntList = []\n",
        "    newCntWidths = []\n",
        "\n",
        "    first_largest_cnt_pos = cntWidths.index(max(cntWidths))\n",
        "\n",
        "    newCntList.append(cntList[first_largest_cnt_pos])\n",
        "    newCntWidths.append(cntWidths[first_largest_cnt_pos])\n",
        "\n",
        "    cntList.pop(first_largest_cnt_pos)\n",
        "    cntWidths.pop(first_largest_cnt_pos)\n",
        "\n",
        "    seccond_largest_cnt_pos = cntWidths.index(max(cntWidths))\n",
        "\n",
        "    newCntList.append(cntList[seccond_largest_cnt_pos])\n",
        "    newCntWidths.append(cntWidths[seccond_largest_cnt_pos])\n",
        "\n",
        "    cntList.pop(seccond_largest_cnt_pos)\n",
        "    cntWidths.pop(seccond_largest_cnt_pos)\n",
        "    return newCntList, newCntWidths\n",
        "\n",
        "\n",
        "def convert_object(mask, image):\n",
        "    gray = mask\n",
        "    gray = cv2.bilateralFilter(gray, 11, 17, 17)\n",
        "    gray = cv2.medianBlur(gray, 5)\n",
        "    edged = cv2.Canny(gray, 30, 400)\n",
        "    countours, _ = cv2.findContours(edged, cv2.RETR_LIST, cv2.CHAIN_APPROX_NONE)\n",
        "\n",
        "    cnts = sorted(countours, key=cv2.contourArea, reverse=True)\n",
        "    screenCntList = []\n",
        "    scrWidths = []\n",
        "    for cnt in cnts:\n",
        "        peri = cv2.arcLength(cnt, True)\n",
        "        approx = cv2.approxPolyDP(cnt, 0.02 * peri, True)\n",
        "        screenCnt = approx\n",
        "\n",
        "        if (len(screenCnt) == 4):\n",
        "            (X, Y, W, H) = cv2.boundingRect(cnt)\n",
        "            screenCntList.append(screenCnt)\n",
        "            scrWidths.append(W)\n",
        "\n",
        "    if len(scrWidths) != 2:\n",
        "        print('ID Card not found.')\n",
        "        return None\n",
        "    else:\n",
        "        screenCntList, scrWidths = findLargestCountours(screenCntList, scrWidths)\n",
        "\n",
        "        if not len(screenCntList) >= 2:  # there is no rectangle found\n",
        "            return None\n",
        "        elif scrWidths[0] != scrWidths[1]:  # mismatch in rect\n",
        "            return None\n",
        "\n",
        "        pts = screenCntList[0].reshape(4, 2)\n",
        "        warped = four_point_transform(image, pts)\n",
        "        return warped"
      ]
    },
    {
      "cell_type": "code",
      "execution_count": null,
      "metadata": {
        "id": "MmrC_FU8tWhv"
      },
      "outputs": [],
      "source": []
    },
    {
      "cell_type": "code",
      "execution_count": null,
      "metadata": {
        "id": "4hH88bjlLdXY"
      },
      "outputs": [],
      "source": [
        "\n",
        "def load_data(INPUT_FILE):\n",
        "    \n",
        "         img = cv2.imread(INPUT_FILE, cv2.IMREAD_GRAYSCALE)\n",
        "         img = img/255.0\n",
        "         height, width = img.shape[:2]\n",
        "         img = cv2.resize(img, (256, 256), interpolation=cv2.INTER_AREA)\n",
        "         img = img.reshape(1, 256, 256, 1)                                             \n",
        "         return img, height, width"
      ]
    },
    {
      "cell_type": "code",
      "execution_count": null,
      "metadata": {
        "id": "E59j2P6zX5OJ"
      },
      "outputs": [],
      "source": [
        "def predict_image(model, image):\n",
        "    predict = model.predict(image, verbose=1)\n",
        "    return predict[0] "
      ]
    },
    {
      "cell_type": "code",
      "execution_count": null,
      "metadata": {
        "colab": {
          "base_uri": "https://localhost:8080/"
        },
        "id": "nrTgG8TqeDxI",
        "outputId": "1b924ddb-ea06-4440-8fe7-dffff3e8ed3e"
      },
      "outputs": [
        {
          "output_type": "stream",
          "name": "stdout",
          "text": [
            "1/1 [==============================] - 0s 41ms/step\n",
            "1/1 [==============================] - 0s 20ms/step\n",
            "1/1 [==============================] - 0s 21ms/step\n",
            "1/1 [==============================] - 0s 19ms/step\n"
          ]
        }
      ],
      "source": [
        "Source= os.listdir(\"/content/drive/MyDrive/IPDA_segmentation/Test/IDS/Ids\")\n",
        "os.chdir(\"/content/drive/MyDrive/IPDA_segmentation/Test/IDS/Ids\")\n",
        "img_list= []\n",
        "output_image= []\n",
        "for n in range(0,4):\n",
        "   img, h, w = load_data(Source[n])\n",
        "   img_list.append(img)\n",
        "\n",
        "   output_image.append(predict_image(model_segment, img_list[n]) )\n",
        "   \n",
        "\n",
        "   "
      ]
    },
    {
      "cell_type": "code",
      "execution_count": null,
      "metadata": {
        "id": "Rq8L0Zl11F8C"
      },
      "outputs": [],
      "source": [
        "from matplotlib import gridspec\n",
        "gs = gridspec.GridSpec(1, len(img_list))"
      ]
    },
    {
      "cell_type": "code",
      "source": [
        "type(output_image[n])"
      ],
      "metadata": {
        "colab": {
          "base_uri": "https://localhost:8080/"
        },
        "id": "G-ozq_cIlDwe",
        "outputId": "beffe881-107f-40c4-ad5e-01401b9640ef"
      },
      "execution_count": null,
      "outputs": [
        {
          "output_type": "execute_result",
          "data": {
            "text/plain": [
              "numpy.ndarray"
            ]
          },
          "metadata": {},
          "execution_count": 42
        }
      ]
    },
    {
      "cell_type": "code",
      "execution_count": null,
      "metadata": {
        "colab": {
          "base_uri": "https://localhost:8080/",
          "height": 246
        },
        "id": "D5_GGp-W0DVk",
        "outputId": "db88f9c3-e07f-40df-f3af-af30c1391fc7"
      },
      "outputs": [
        {
          "output_type": "display_data",
          "data": {
            "text/plain": [
              "<Figure size 1152x432 with 4 Axes>"
            ],
            "image/png": "[encoded data removed]"
          },
          "metadata": {
            "needs_background": "light"
          }
        }
      ],
      "source": [
        "fig = plt.figure(figsize=(16, 6))\n",
        "for n in range(len(output_image)):\n",
        "    ax = fig.add_subplot(gs[n])\n",
        "    data = output_image[n]\n",
        "    ax.imshow(data, cmap=\"gray\") "
      ]
    },
    {
      "cell_type": "code",
      "execution_count": null,
      "metadata": {
        "id": "toB2sR9Ye3An"
      },
      "outputs": [],
      "source": [
        "print('Cut it out...')\n",
        "mask_image = cv2.resize(output_image[n], (w, h))\n",
        "warped = convert_object(mask_image, cv2.imread('/content/drive/MyDrive/IPDA_segmentation/Test/IDS/Ids/fake_id_200__front.png'))\n",
        "print('Save output files...', '/content/drive/MyDrive/IPDA_segmentation/Test/Output')\n",
        "plt.imsave('/content/drive/MyDrive/IPDA_segmentation/Test/Mask_output', mask_image, cmap='gray')      \n"
      ]
    }
  ],
  "metadata": {
    "accelerator": "GPU",
    "colab": {
      "provenance": []
    },
    "gpuClass": "standard",
    "kernelspec": {
      "display_name": "Python 3",
      "name": "python3"
    },
    "language_info": {
      "name": "python"
    }
  },
  "nbformat": 4,
  "nbformat_minor": 0
}